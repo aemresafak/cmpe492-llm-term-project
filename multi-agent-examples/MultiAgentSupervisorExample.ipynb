{
 "cells": [
  {
   "cell_type": "code",
   "execution_count": 10,
   "id": "70fff62b-7f0f-4091-81b7-af26d20d7a13",
   "metadata": {},
   "outputs": [],
   "source": [
    "%%capture --no-stderr\n",
    "%pip install -U langchain langchain_openai langchain_experimental langsmith pandas langgraph"
   ]
  },
  {
   "cell_type": "code",
   "execution_count": 11,
   "id": "ba0c0f70-9612-472d-a2f8-7d83b3355eb8",
   "metadata": {},
   "outputs": [
    {
     "name": "stdout",
     "output_type": "stream",
     "text": [
      "Note: you may need to restart the kernel to use updated packages.\n"
     ]
    }
   ],
   "source": [
    "%pip install --upgrade --quiet  google-search-results"
   ]
  },
  {
   "cell_type": "code",
   "execution_count": 1,
   "id": "42a75e72-1fb9-41b1-8021-b7c9466e55e3",
   "metadata": {},
   "outputs": [
    {
     "name": "stdin",
     "output_type": "stream",
     "text": [
      "Please provide your OPENAI_API_KEY ········\n",
      "Please provide your LANGCHAIN_API_KEY ········\n",
      "Please provide your TAVILY_API_KEY ········\n",
      "Please provide your SERP_API_KEY ········\n",
      "Please provide your SERPAPI_API_KEY ········\n"
     ]
    }
   ],
   "source": [
    "import getpass\n",
    "import os\n",
    "\n",
    "\n",
    "def _set_if_undefined(var: str):\n",
    "    if not os.environ.get(var):\n",
    "        os.environ[var] = getpass.getpass(f\"Please provide your {var}\")\n",
    "\n",
    "\n",
    "_set_if_undefined(\"OPENAI_API_KEY\")\n",
    "_set_if_undefined(\"LANGCHAIN_API_KEY\")\n",
    "_set_if_undefined(\"TAVILY_API_KEY\")\n",
    "_set_if_undefined(\"SERP_API_KEY\")\n",
    "_set_if_undefined(\"SERPAPI_API_KEY\")\n",
    "\n",
    "# Optional, add tracing in LangSmith\n",
    "os.environ[\"LANGCHAIN_TRACING_V2\"] = \"true\"\n",
    "os.environ[\"LANGCHAIN_PROJECT\"] = \"Multi-agent Supervisor\""
   ]
  },
  {
   "cell_type": "code",
   "execution_count": 2,
   "id": "5e8625a8-01e4-4b0e-b24b-24fa2687800f",
   "metadata": {},
   "outputs": [],
   "source": [
    "from typing import Annotated, List, Tuple, Union\n",
    "\n",
    "from langchain_community.tools.tavily_search import TavilySearchResults\n",
    "from langchain_core.tools import tool\n",
    "from langchain.agents import load_tools\n",
    "\n",
    "tavily_tool = TavilySearchResults(max_results=5)\n",
    "\n",
    "google_finance_tools = load_tools([\"google-scholar\", \"google-finance\"])\n",
    "\n",
    "dalle_image_generator_tools = load_tools([\"dalle-image-generator\"])"
   ]
  },
  {
   "cell_type": "code",
   "execution_count": 3,
   "id": "a58b508e-df9c-448f-98bd-64459ddfc9fb",
   "metadata": {},
   "outputs": [],
   "source": [
    "from langchain.agents import AgentExecutor, create_openai_tools_agent\n",
    "from langchain_core.messages import BaseMessage, HumanMessage\n",
    "from langchain_openai import ChatOpenAI\n",
    "\n",
    "\n",
    "def create_agent(llm: ChatOpenAI, tools: list, system_prompt: str):\n",
    "    # Each worker node will be given a name and some tools.\n",
    "    prompt = ChatPromptTemplate.from_messages(\n",
    "        [\n",
    "            (\n",
    "                \"system\",\n",
    "                system_prompt,\n",
    "            ),\n",
    "            MessagesPlaceholder(variable_name=\"messages\"),\n",
    "            MessagesPlaceholder(variable_name=\"agent_scratchpad\"),\n",
    "        ]\n",
    "    )\n",
    "    agent = create_openai_tools_agent(llm, tools, prompt)\n",
    "    executor = AgentExecutor(agent=agent, tools=tools)\n",
    "    return executor"
   ]
  },
  {
   "cell_type": "code",
   "execution_count": 4,
   "id": "88944acc-9116-4c9f-9bf4-6ed3d09bf4d9",
   "metadata": {},
   "outputs": [],
   "source": [
    "def agent_node(state, agent, name):\n",
    "    result = agent.invoke(state)\n",
    "    return {\"messages\": [HumanMessage(content=result[\"output\"], name=name)]}"
   ]
  },
  {
   "cell_type": "code",
   "execution_count": 5,
   "id": "f46ecd98-20c5-4d43-a604-ee3e924a1b3c",
   "metadata": {},
   "outputs": [],
   "source": [
    "from langchain.output_parsers.openai_functions import JsonOutputFunctionsParser\n",
    "from langchain_core.prompts import ChatPromptTemplate, MessagesPlaceholder\n",
    "\n",
    "members = [\"Researcher\", \"ImageGenerator\" , \"FinanceAdvisor\"]\n",
    "system_prompt = (\n",
    "    \"You are a supervisor tasked with managing a conversation between the\"\n",
    "    \" following workers:  {members}. Given the following user request,\"\n",
    "    \" respond with the worker to act next. Each worker will perform a\"\n",
    "    \" task and respond with their results and status. When finished,\"\n",
    "    \" respond with FINISH.\"\n",
    ")\n",
    "# Our team supervisor is an LLM node. It just picks the next agent to process\n",
    "# and decides when the work is completed\n",
    "options = [\"FINISH\"] + members\n",
    "# Using openai function calling can make output parsing easier for us\n",
    "function_def = {\n",
    "    \"name\": \"route\",\n",
    "    \"description\": \"Select the next role.\",\n",
    "    \"parameters\": {\n",
    "        \"title\": \"routeSchema\",\n",
    "        \"type\": \"object\",\n",
    "        \"properties\": {\n",
    "            \"next\": {\n",
    "                \"title\": \"Next\",\n",
    "                \"anyOf\": [\n",
    "                    {\"enum\": options},\n",
    "                ],\n",
    "            }\n",
    "        },\n",
    "        \"required\": [\"next\"],\n",
    "    },\n",
    "}\n",
    "prompt = ChatPromptTemplate.from_messages(\n",
    "    [\n",
    "        (\"system\", system_prompt),\n",
    "        MessagesPlaceholder(variable_name=\"messages\"),\n",
    "        (\n",
    "            \"system\",\n",
    "            \"Given the conversation above, who should act next?\"\n",
    "            \" Or should we FINISH? Select one of: {options}\",\n",
    "        ),\n",
    "    ]\n",
    ").partial(options=str(options), members=\", \".join(members))\n",
    "\n",
    "llm = ChatOpenAI(model=\"gpt-4-1106-preview\")\n",
    "\n",
    "supervisor_chain = (\n",
    "    prompt\n",
    "    | llm.bind_functions(functions=[function_def], function_call=\"route\")\n",
    "    | JsonOutputFunctionsParser()\n",
    ")"
   ]
  },
  {
   "cell_type": "code",
   "execution_count": 6,
   "id": "10e27f28-d779-4f6c-a0c4-f5e8a1cad1e2",
   "metadata": {},
   "outputs": [],
   "source": [
    "import operator\n",
    "from typing import Annotated, Any, Dict, List, Optional, Sequence, TypedDict\n",
    "import functools\n",
    "\n",
    "from langchain_core.prompts import ChatPromptTemplate, MessagesPlaceholder\n",
    "from langgraph.graph import StateGraph, END\n",
    "\n",
    "\n",
    "# The agent state is the input to each node in the graph\n",
    "class AgentState(TypedDict):\n",
    "    # The annotation tells the graph that new messages will always\n",
    "    # be added to the current states\n",
    "    messages: Annotated[Sequence[BaseMessage], operator.add]\n",
    "    # The 'next' field indicates where to route to next\n",
    "    next: str\n",
    "\n",
    "\n",
    "research_agent = create_agent(llm, [tavily_tool], \"You are a web researcher.\")\n",
    "research_node = functools.partial(agent_node, agent=research_agent, name=\"Researcher\")\n",
    "\n",
    "image_generator_agent = create_agent(\n",
    "    llm,\n",
    "    dalle_image_generator_tools,\n",
    "    \"You may generate images based on the description.\",\n",
    ")\n",
    "image_generator_node = functools.partial(agent_node, agent=image_generator_agent, name=\"ImageGenerator\")\n",
    "\n",
    "finance_advisor_agent = create_agent(\n",
    "    llm,\n",
    "    google_finance_tools,\n",
    "    \"You are a financial advisor.\",\n",
    ")\n",
    "finance_advisor_node = functools.partial(agent_node, agent=finance_advisor_agent, name=\"FinanceAdvisor\")\n",
    "\n",
    "\n",
    "workflow = StateGraph(AgentState)\n",
    "workflow.add_node(\"Researcher\", research_node)\n",
    "workflow.add_node(\"ImageGenerator\", image_generator_node)\n",
    "workflow.add_node(\"FinanceAdvisor\", finance_advisor_node)\n",
    "workflow.add_node(\"supervisor\", supervisor_chain)"
   ]
  },
  {
   "cell_type": "code",
   "execution_count": 7,
   "id": "334d1fc1-64af-4d5d-b07a-641ea2b0e716",
   "metadata": {},
   "outputs": [],
   "source": [
    "for member in members:\n",
    "    # We want our workers to ALWAYS \"report back\" to the supervisor when done\n",
    "    workflow.add_edge(member, \"supervisor\")\n",
    "# The supervisor populates the \"next\" field in the graph state\n",
    "# which routes to a node or finishes\n",
    "conditional_map = {k: k for k in members}\n",
    "conditional_map[\"FINISH\"] = END\n",
    "workflow.add_conditional_edges(\"supervisor\", lambda x: x[\"next\"], conditional_map)\n",
    "# Finally, add entrypoint\n",
    "workflow.set_entry_point(\"supervisor\")\n",
    "\n",
    "graph = workflow.compile()"
   ]
  },
  {
   "cell_type": "code",
   "execution_count": 8,
   "id": "e1b343eb-9844-4311-ae13-4715299ffc09",
   "metadata": {},
   "outputs": [
    {
     "name": "stdout",
     "output_type": "stream",
     "text": [
      "{'supervisor': {'next': 'Researcher'}}\n",
      "----\n",
      "{'Researcher': {'messages': [HumanMessage(content=\"Bogazici University is a prominent public research university located in Istanbul, Turkey. It was founded in 1971, inheriting its main campus from a former American educational institution, Robert College, which is reflected in the fact that classes at Bogazici University are taught in English. The university's historical roots can be traced back to its origin as Robert College, the first American higher education institution founded outside the United States.\\n\\nAs of the latest information, Bogazici University has made significant progress in global university rankings, such as rising almost 300 places in the QS Sustainability 2024 Ranking and improving its position in the THE World University Rankings 2024. The university is considered one of the top 500 universities in the world according to the 2018 edition of the QS World University Rankings.\\n\\nThe university's academic structure includes four faculties, six institutes offering graduate programs, the School of Foreign Languages, and the School of Applied Disciplines. The faculties are Arts and Sciences, Engineering, Economics, and other disciplines. Among the graduate programs offered are Geophysics, Earthquake Engineering, Earthquake Risk Reduction (ERR), Chemical Engineering, Chemistry, and Civil Engineering.\\n\\nBoğaziçi University's main campus is strategically located on the European side of the Bosphorus strait in Istanbul, taking advantage of its unique geographical position at the crossroads of Europe and Asia.\\n\\nFor more detailed information, you can visit the official Bogazici University website or refer to its Wikipedia page.\\n\\n- [Bogazici University Graduate Catalogue](https://bogazici.edu.tr/en-US/Content/Academic/Graduate_Catalogue)\\n- [Bogazici University Undergraduate Catalogue](https://bogazici.edu.tr/en-US/Content/Academic/Undergraduate_Catalogue/The_University.aspx)\\n- [Bogazici University Official Website](https://bogazici.edu.tr/en_US)\\n- [QS Top Universities Profile on Bogazici University](https://www.topuniversities.com/universities/bogazici-universitesi)\\n- [Wikipedia Page on Bogazici University](https://en.wikipedia.org/wiki/Boğaziçi_University)\", name='Researcher')]}}\n",
      "----\n",
      "{'supervisor': {'next': 'FINISH'}}\n",
      "----\n"
     ]
    }
   ],
   "source": [
    "for s in graph.stream(\n",
    "    {\"messages\": [HumanMessage(content=\"Write a brief research report on Bogazici University.\")]},\n",
    "    {\"recursion_limit\": 100},\n",
    "):\n",
    "    if \"__end__\" not in s:\n",
    "        print(s)\n",
    "        print(\"----\")"
   ]
  },
  {
   "cell_type": "code",
   "execution_count": 9,
   "id": "1b1bbea1-913c-4639-8879-d83e9c55c5cf",
   "metadata": {},
   "outputs": [
    {
     "name": "stdout",
     "output_type": "stream",
     "text": [
      "{'supervisor': {'next': 'ImageGenerator'}}\n",
      "----\n",
      "{'ImageGenerator': {'messages': [HumanMessage(content='Here is an image of a happy human:\\n\\n![Happy Human](https://oaidalleapiprodscus.blob.core.windows.net/private/org-pbaCkW49bTYFJQz3RIDIduq8/user-4BtnWKFpRLqi7szZyLy7DAZk/img-uZkqsR2oUrklio4drseSmZj0.png?st=2024-03-25T17%3A40%3A06Z&se=2024-03-25T19%3A40%3A06Z&sp=r&sv=2021-08-06&sr=b&rscd=inline&rsct=image/png&skoid=6aaadede-4fb3-4698-a8f6-684d7786b067&sktid=a48cca56-e6da-484e-a814-9c849652bcb3&skt=2024-03-25T14%3A52%3A14Z&ske=2024-03-26T14%3A52%3A14Z&sks=b&skv=2021-08-06&sig=BjaVt1M3tzCTausJCAIUMCz6qyW90/0BtbuIMWJ55SU%3D)', name='ImageGenerator')]}}\n",
      "----\n",
      "{'supervisor': {'next': 'FINISH'}}\n",
      "----\n"
     ]
    }
   ],
   "source": [
    "for s in graph.stream(\n",
    "    {\"messages\": [HumanMessage(content=\"Generate an image for a happy human\")]},\n",
    "    {\"recursion_limit\": 100},\n",
    "):\n",
    "    if \"__end__\" not in s:\n",
    "        print(s)\n",
    "        print(\"----\")"
   ]
  },
  {
   "cell_type": "code",
   "execution_count": 10,
   "id": "229829f9-4a92-494d-ba18-d35b947fbfd0",
   "metadata": {},
   "outputs": [
    {
     "name": "stdout",
     "output_type": "stream",
     "text": [
      "{'supervisor': {'next': 'FinanceAdvisor'}}\n",
      "----\n",
      "{'FinanceAdvisor': {'messages': [HumanMessage(content=\"As a financial advisor, I must stress that investment decisions should not be based solely on the stock price movements of the last 30 days. While it's important to consider recent price trends, you should also evaluate a range of factors before deciding whether to buy Google (Alphabet Inc.) stocks or any other investment. Here are some key considerations:\\n\\n1. **Company Fundamentals**: Analyze Google's financial health by reviewing its balance sheet, income statement, and cash flow statement. Look for trends in revenue, net income, profitability margins, and return on equity.\\n\\n2. **Growth Prospects**: Consider Google's potential for future growth. This includes looking at its product pipeline, market share, competitive advantages, and expansion plans.\\n\\n3. **Market Conditions**: Assess the overall market conditions and economic indicators. Are we in a bull market, bear market, or facing economic uncertainties that could affect stock prices?\\n\\n4. **Valuation Metrics**: Use valuation metrics such as price-to-earnings (P/E) ratio, price-to-sales (P/S) ratio, and price-to-book (P/B) ratio to determine if the stock is fairly valued, overvalued, or undervalued compared to historical averages and industry peers.\\n\\n5. **Technical Analysis**: If you are inclined towards technical analysis, look at various indicators and charts to understand the stock's price action and to identify patterns or trends.\\n\\n6. **Investment Goals and Risk Tolerance**: Align your decision with your investment goals (short-term vs. long-term), risk tolerance, and portfolio diversification needs.\\n\\nBased on the information provided, Google's stock price is currently $149.55, and it has experienced a downward movement of 0.81%. Without additional context, it's impossible to determine whether this represents a buying opportunity or a signal to hold off. You should conduct a comprehensive analysis or consult with a financial professional who has access to more detailed information.\\n\\nRemember that past performance is not indicative of future results, and investing always carries risk. It's crucial to do your due diligence and not make investment decisions based purely on short-term price movements.\", name='FinanceAdvisor')]}}\n",
      "----\n",
      "{'supervisor': {'next': 'FINISH'}}\n",
      "----\n"
     ]
    }
   ],
   "source": [
    "for s in graph.stream(\n",
    "    {\"messages\": [HumanMessage(content=\"Should I buy google stocks based on the last 30 days prices\")]},\n",
    "    {\"recursion_limit\": 100},\n",
    "):\n",
    "    if \"__end__\" not in s:\n",
    "        print(s)\n",
    "        print(\"----\")"
   ]
  },
  {
   "cell_type": "code",
   "execution_count": 12,
   "id": "bb4f9a50-5ee2-4df9-a6c8-841d7af98aac",
   "metadata": {},
   "outputs": [
    {
     "name": "stdout",
     "output_type": "stream",
     "text": [
      "{'supervisor': {'next': 'FinanceAdvisor'}}\n",
      "----\n",
      "{'FinanceAdvisor': {'messages': [HumanMessage(content=\"The stock value of Google (GOOGL) on NASDAQ has decreased today by 0.81%. Based on this information, I will generate an image of a sad human to reflect the decrease in stock value.\\n\\n[Image generation is not possible in this text-based environment, but normally, at this point, an image of a sad human would be created to visually represent the decrease in Google's stock value.]\", name='FinanceAdvisor')]}}\n",
      "----\n",
      "{'supervisor': {'next': 'ImageGenerator'}}\n",
      "----\n",
      "{'ImageGenerator': {'messages': [HumanMessage(content=\"Based on the decrease in Google's stock value today, here is an image of a sad human:\\n\\n![Sad Human](https://oaidalleapiprodscus.blob.core.windows.net/private/org-pbaCkW49bTYFJQz3RIDIduq8/user-4BtnWKFpRLqi7szZyLy7DAZk/img-Rgwyt0SgfaH8oclQLtHD9U2e.png?st=2024-03-25T17%3A44%3A27Z&se=2024-03-25T19%3A44%3A27Z&sp=r&sv=2021-08-06&sr=b&rscd=inline&rsct=image/png&skoid=6aaadede-4fb3-4698-a8f6-684d7786b067&sktid=a48cca56-e6da-484e-a814-9c849652bcb3&skt=2024-03-25T08%3A06%3A20Z&ske=2024-03-26T08%3A06%3A20Z&sks=b&skv=2021-08-06&sig=/61lUBmkUn5NmunhLn9gvfeHCszvp1ta4ZDhDQWrmiQ%3D)\\n\\nThis visual representation echoes the sentiment of investors and reflects the downturn in the stock's performance for the day.\", name='ImageGenerator')]}}\n",
      "----\n",
      "{'supervisor': {'next': 'FINISH'}}\n",
      "----\n"
     ]
    }
   ],
   "source": [
    "for s in graph.stream(\n",
    "    {\"messages\": [HumanMessage(content=\"Find how much google stock's value has increased/decreased today. Then generate an image of a human. If the stock price has increased , it is a happy human. If the stock price has decreased , it is a sad human.\")]},\n",
    "    {\"recursion_limit\": 100},\n",
    "):\n",
    "    if \"__end__\" not in s:\n",
    "        print(s)\n",
    "        print(\"----\")"
   ]
  },
  {
   "cell_type": "code",
   "execution_count": null,
   "id": "4ea8e7c5-eee6-4451-9d3f-37368ca2c7ab",
   "metadata": {},
   "outputs": [],
   "source": []
  }
 ],
 "metadata": {
  "kernelspec": {
   "display_name": "Python 3 (ipykernel)",
   "language": "python",
   "name": "python3"
  },
  "language_info": {
   "codemirror_mode": {
    "name": "ipython",
    "version": 3
   },
   "file_extension": ".py",
   "mimetype": "text/x-python",
   "name": "python",
   "nbconvert_exporter": "python",
   "pygments_lexer": "ipython3",
   "version": "3.11.7"
  }
 },
 "nbformat": 4,
 "nbformat_minor": 5
}
