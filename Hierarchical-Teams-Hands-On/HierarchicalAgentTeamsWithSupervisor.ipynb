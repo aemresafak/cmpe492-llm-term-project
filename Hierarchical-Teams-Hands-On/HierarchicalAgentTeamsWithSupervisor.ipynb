{
 "cells": [
  {
   "cell_type": "code",
   "execution_count": 10,
   "id": "1247c416-f24b-450b-a24e-823f169a4657",
   "metadata": {},
   "outputs": [],
   "source": [
    "%%capture --no-stderr\n",
    "%pip install -U langchain langchain_openai langchain_experimental langsmith pandas langgraph"
   ]
  },
  {
   "cell_type": "code",
   "execution_count": 11,
   "id": "c2d043fd-ea07-447e-8869-22f455b412b4",
   "metadata": {},
   "outputs": [
    {
     "name": "stdout",
     "output_type": "stream",
     "text": [
      "Note: you may need to restart the kernel to use updated packages.\n"
     ]
    }
   ],
   "source": [
    "%pip install --upgrade --quiet  google-search-results"
   ]
  },
  {
   "cell_type": "code",
   "execution_count": 2,
   "id": "d292e320-7202-4083-811f-9c5f7887d997",
   "metadata": {
    "scrolled": true
   },
   "outputs": [],
   "source": [
    "import getpass\n",
    "import os\n",
    "\n",
    "\n",
    "def _set_if_undefined(var: str):\n",
    "    if not os.environ.get(var):\n",
    "        os.environ[var] = getpass.getpass(f\"Please provide your {var}\")\n",
    "\n",
    "\n",
    "_set_if_undefined(\"OPENAI_API_KEY\")\n",
    "_set_if_undefined(\"LANGCHAIN_API_KEY\")\n",
    "_set_if_undefined(\"TAVILY_API_KEY\")\n",
    "_set_if_undefined(\"SERP_API_KEY\")\n",
    "_set_if_undefined(\"SERPAPI_API_KEY\")\n",
    "\n",
    "\n",
    "\n",
    "\n",
    "# Optional, add tracing in LangSmith\n",
    "os.environ[\"LANGCHAIN_TRACING_V2\"] = \"true\"\n",
    "os.environ[\"LANGCHAIN_PROJECT\"] = \"Multi-agent Hierarchical Teams With Supervisors\""
   ]
  },
  {
   "cell_type": "markdown",
   "id": "b8788aaf-c324-481e-a64d-b24a2c593dec",
   "metadata": {},
   "source": [
    "## Tools"
   ]
  },
  {
   "cell_type": "markdown",
   "id": "c70adbca-b0d9-4173-a95f-9e5e3488552e",
   "metadata": {},
   "source": [
    "Research Team Tools"
   ]
  },
  {
   "cell_type": "code",
   "execution_count": 2,
   "id": "4badd30b-a859-478b-8b14-91c9365cbc05",
   "metadata": {},
   "outputs": [],
   "source": [
    "from typing import Annotated, List, Tuple, Union\n",
    "\n",
    "from langchain_community.tools.tavily_search import TavilySearchResults\n",
    "from langchain_core.tools import tool\n",
    "from langchain.agents import load_tools\n",
    "\n",
    "tavily_tool = TavilySearchResults(max_results=5)\n",
    "google_finance_tools = load_tools([\"google-scholar\", \"google-finance\"])\n",
    "\n",
    "\n",
    "technical_analyst_tools = google_finance_tools + [tavily_tool]\n",
    "\n",
    "economist_tools = google_finance_tools.copy()\n",
    "\n",
    "banking_analyst_tools = google_finance_tools.copy()\n",
    "\n",
    "industrial_sector_analyst_tools = google_finance_tools.copy()"
   ]
  },
  {
   "cell_type": "markdown",
   "id": "7dcfd745-eec6-4e32-a561-b6e621159703",
   "metadata": {},
   "source": [
    "Human Resources Tools"
   ]
  },
  {
   "cell_type": "code",
   "execution_count": 3,
   "id": "ae3e8463-876a-4949-a446-356bd8cefcf9",
   "metadata": {},
   "outputs": [],
   "source": [
    "recruitment_specialist_tools = [tavily_tool]\n",
    "\n",
    "payroll_and_personnel_tools = [tavily_tool]"
   ]
  },
  {
   "cell_type": "markdown",
   "id": "593f8ef9-5691-4804-9588-189b56c19587",
   "metadata": {},
   "source": [
    "Help Desk Tools"
   ]
  },
  {
   "cell_type": "code",
   "execution_count": 4,
   "id": "49280dc8-70bf-41e1-848d-a3956db53fcb",
   "metadata": {},
   "outputs": [],
   "source": [
    "network_malfunction_specialist_tools = [tavily_tool]\n",
    "\n",
    "mobile_banking_malfunction_specialist_tools = [tavily_tool]\n",
    "\n",
    "transaction_error_specialist_tools = [tavily_tool]\n",
    "\n",
    "customer_satisfaction_specialist_tools = [tavily_tool]"
   ]
  },
  {
   "cell_type": "markdown",
   "id": "dcc95daa-828d-49c9-9595-eb744b45c14c",
   "metadata": {},
   "source": [
    "## Helper Utilities"
   ]
  },
  {
   "cell_type": "code",
   "execution_count": 5,
   "id": "6efed6ea-2aa2-4652-bfba-600b42100262",
   "metadata": {},
   "outputs": [],
   "source": [
    "from typing import Any, Callable, List, Optional, TypedDict, Union\n",
    "\n",
    "from langchain.agents import AgentExecutor, create_openai_tools_agent\n",
    "from langchain.output_parsers.openai_functions import JsonOutputFunctionsParser\n",
    "from langchain_core.prompts import ChatPromptTemplate, MessagesPlaceholder\n",
    "from langchain_core.runnables import Runnable\n",
    "from langchain_core.tools import BaseTool\n",
    "from langchain_openai import ChatOpenAI\n",
    "\n",
    "from langgraph.graph import END, StateGraph\n",
    "\n",
    "\n",
    "def create_agent(\n",
    "    llm: ChatOpenAI,\n",
    "    tools: list,\n",
    "    system_prompt: str,\n",
    ") -> str:\n",
    "    \"\"\"Create a function-calling agent and add it to the graph.\"\"\"\n",
    "    system_prompt += \"\\nWork autonomously according to your specialty, using the tools available to you.\"\n",
    "    \" Do not ask for clarification.\"\n",
    "    \" Your other team members (and other teams) will collaborate with you with their own specialties.\"\n",
    "    \" You are chosen for a reason! You are one of the following team members: {team_members}.\"\n",
    "    prompt = ChatPromptTemplate.from_messages(\n",
    "        [\n",
    "            (\n",
    "                \"system\",\n",
    "                system_prompt,\n",
    "            ),\n",
    "            MessagesPlaceholder(variable_name=\"messages\"),\n",
    "            MessagesPlaceholder(variable_name=\"agent_scratchpad\"),\n",
    "        ]\n",
    "    )\n",
    "    \n",
    "    agent = create_openai_tools_agent(llm, tools, prompt)\n",
    "    executor = AgentExecutor(agent=agent, tools=tools)\n",
    "    return executor\n",
    "\n",
    "\n",
    "def agent_node(state, agent, name):\n",
    "    result = agent.invoke(state)\n",
    "    return {\"messages\": [HumanMessage(content=result[\"output\"], name=name)]}\n",
    "\n",
    "\n",
    "def create_team_supervisor(llm: ChatOpenAI, system_prompt, members) -> str:\n",
    "    \"\"\"An LLM-based router.\"\"\"\n",
    "    options = [\"FINISH\"] + members\n",
    "    function_def = {\n",
    "        \"name\": \"route\",\n",
    "        \"description\": \"Select the next role.\",\n",
    "        \"parameters\": {\n",
    "            \"title\": \"routeSchema\",\n",
    "            \"type\": \"object\",\n",
    "            \"properties\": {\n",
    "                \"next\": {\n",
    "                    \"title\": \"Next\",\n",
    "                    \"anyOf\": [\n",
    "                        {\"enum\": options},\n",
    "                    ],\n",
    "                },\n",
    "            },\n",
    "            \"required\": [\"next\"],\n",
    "        },\n",
    "    }\n",
    "    prompt = ChatPromptTemplate.from_messages(\n",
    "        [\n",
    "            (\"system\", system_prompt),\n",
    "            MessagesPlaceholder(variable_name=\"messages\"),\n",
    "            (\n",
    "                \"system\",\n",
    "                \"Given the conversation above, who should act next?\"\n",
    "                \" Or should we FINISH? Select one of: {options}\",\n",
    "            ),\n",
    "        ]\n",
    "    ).partial(options=str(options), team_members=\", \".join(members))\n",
    "    return (\n",
    "        prompt\n",
    "        | llm.bind_functions(functions=[function_def], function_call=\"route\")\n",
    "        | JsonOutputFunctionsParser()\n",
    "    )"
   ]
  },
  {
   "cell_type": "code",
   "execution_count": 6,
   "id": "a732bb6e-7a3f-45e4-a1ec-95f73a552d1e",
   "metadata": {},
   "outputs": [],
   "source": [
    "#Template to prevent endless loops\n",
    "\n",
    "prevent_endless_loops_template = \"Do not call this tool more than once. Do not call another tool if this returns results.\""
   ]
  },
  {
   "cell_type": "markdown",
   "id": "761eaddd-fd04-4069-b3d1-81333bcc28c2",
   "metadata": {},
   "source": [
    "## Research Team"
   ]
  },
  {
   "cell_type": "code",
   "execution_count": 7,
   "id": "eb19543b-8a99-4647-b1a1-048e1f4cf7b5",
   "metadata": {},
   "outputs": [],
   "source": [
    "import functools\n",
    "import operator\n",
    "\n",
    "from langchain_core.messages import AIMessage, BaseMessage, HumanMessage\n",
    "from langchain_openai.chat_models import ChatOpenAI\n",
    "import functools\n",
    "\n",
    "# Research team graph state\n",
    "class ResearchTeamState(TypedDict):\n",
    "    # A message is added after each team member finishes\n",
    "    messages: Annotated[List[BaseMessage], operator.add]\n",
    "    # The team members are tracked so they are aware of\n",
    "    # the others' skill-sets\n",
    "    team_members: List[str]\n",
    "    # Used to route work. The supervisor calls a function\n",
    "    # that will update this every time it makes a decision\n",
    "    next: str\n",
    "\n",
    "llm = ChatOpenAI(model=\"gpt-4-1106-preview\")\n",
    "\n",
    "technical_analyst_agent = create_agent(\n",
    "    llm,\n",
    "    technical_analyst_tools,\n",
    "    \"You are a Technical Analyst responsible for analyzing technical data and trends within a specific industry or market, providing insights and recommendations based on your analysis.\" + prevent_endless_loops_template,\n",
    ")\n",
    "technical_analyst_node = functools.partial(agent_node, agent=technical_analyst_agent, name=\"Technical_Analyst\")\n",
    "\n",
    "economist_agent = create_agent(\n",
    "    llm,\n",
    "    economist_tools,\n",
    "    \"You are an Economist tasked with studying economic indicators, trends, and policies to assess their impact on businesses or markets, and offering strategic advice or forecasts based on your findings.\" + prevent_endless_loops_template,\n",
    ")\n",
    "economist_node = functools.partial(agent_node, agent=economist_agent, name=\"Economist\")\n",
    "\n",
    "banking_analyst_agent = create_agent(\n",
    "    llm,\n",
    "    banking_analyst_tools,\n",
    "    \"You are a Banking Analyst specialized in analyzing financial data related to banking operations, such as loan portfolios, interest rate trends, or investment strategies, to assist banks in making informed decisions.\" + prevent_endless_loops_template,\n",
    ")\n",
    "banking_analyst_node = functools.partial(agent_node, agent=banking_analyst_agent, name=\"Banking_Analyst\")\n",
    "\n",
    "industrial_sector_analyst_agent = create_agent(\n",
    "    llm,\n",
    "    industrial_sector_analyst_tools,\n",
    "    \"You are an Industrial Sector Analyst focused on researching and evaluating data related to specific industries or sectors, such as manufacturing, energy, or technology, to identify opportunities, risks, and market trends for stakeholders.\" + prevent_endless_loops_template,\n",
    ")\n",
    "industrial_sector_analyst_node = functools.partial(agent_node, agent=industrial_sector_analyst_agent, name=\"Industrial_Sector_Analyst\")\n",
    "\n",
    "\n",
    "supervisor_agent = create_team_supervisor(\n",
    "    llm,\n",
    "    \"You are a supervisor tasked with managing a conversation between the\"\n",
    "    \" following workers:  Technical_Analyst, Economist, Banking_Analyst, Industrial_Sector_Analyst. Given the following user request,\"\n",
    "    \" respond with the worker to act next. Each worker will perform a\"\n",
    "    \" task and respond with their results and status. When finished,\"\n",
    "    \" respond with FINISH. Do not call a tool more than once.\"\n",
    "    \"Do not call another tool if the tool returns results.\",\n",
    "    [\"Technical_Analyst\", \"Economist\" , \"Banking_Analyst\" , \"Industrial_Sector_Analyst\"],\n",
    ")"
   ]
  },
  {
   "cell_type": "markdown",
   "id": "630f1d91-3c82-4757-a43c-224624341bab",
   "metadata": {},
   "source": [
    "Research Team Graph"
   ]
  },
  {
   "cell_type": "code",
   "execution_count": 8,
   "id": "0a47135f-4375-425a-b753-1a3f685eac5f",
   "metadata": {},
   "outputs": [],
   "source": [
    "research_graph = StateGraph(ResearchTeamState)\n",
    "research_graph.add_node(\"Technical_Analyst\", technical_analyst_node)\n",
    "research_graph.add_node(\"Economist\", economist_node)\n",
    "research_graph.add_node(\"Banking_Analyst\", banking_analyst_node)\n",
    "research_graph.add_node(\"Industrial_Sector_Analyst\", industrial_sector_analyst_node)\n",
    "research_graph.add_node(\"supervisor\", supervisor_agent)\n",
    "\n",
    "# Define the control flow\n",
    "research_graph.add_edge(\"Technical_Analyst\", \"supervisor\")\n",
    "research_graph.add_edge(\"Economist\", \"supervisor\")\n",
    "research_graph.add_edge(\"Banking_Analyst\", \"supervisor\")\n",
    "research_graph.add_edge(\"Industrial_Sector_Analyst\", \"supervisor\")\n",
    "\n",
    "research_graph.add_conditional_edges(\n",
    "    \"supervisor\",\n",
    "    lambda x: x[\"next\"],\n",
    "    {\n",
    "        \"Technical_Analyst\": \"Technical_Analyst\",\n",
    "        \"Economist\": \"Economist\",\n",
    "        \"Banking_Analyst\": \"Banking_Analyst\",\n",
    "        \"Industrial_Sector_Analyst\": \"Industrial_Sector_Analyst\",\n",
    "        \"FINISH\": END\n",
    "    },\n",
    ")\n",
    "\n",
    "\n",
    "research_graph.set_entry_point(\"supervisor\")\n",
    "chain = research_graph.compile()\n",
    "\n",
    "\n",
    "# The following functions interoperate between the top level graph state\n",
    "# and the state of the research sub-graph\n",
    "# this makes it so that the states of each graph don't get intermixed\n",
    "def enter_chain(message: str):\n",
    "    results = {\n",
    "        \"messages\": [HumanMessage(content=message)],\n",
    "    }\n",
    "    return results\n",
    "\n",
    "\n",
    "research_chain = enter_chain | chain"
   ]
  },
  {
   "cell_type": "markdown",
   "id": "da205147-4cc4-4847-87b1-9fc967e2cf03",
   "metadata": {},
   "source": [
    "Research Team Individual Test"
   ]
  },
  {
   "cell_type": "code",
   "execution_count": 9,
   "id": "3c7478ad-42cd-4f27-b115-d8ced535ff03",
   "metadata": {
    "scrolled": true
   },
   "outputs": [
    {
     "name": "stdout",
     "output_type": "stream",
     "text": [
      "{'supervisor': {'next': 'Economist'}}\n",
      "---\n",
      "{'Economist': {'messages': [HumanMessage(content=\"Changes in government policies regarding tariffs on imported goods can have significant impacts on supply chains and overall business operations. Here are several ways in which such changes might affect your business:\\n\\n1. **Cost of Goods Sold (COGS):** An increase in tariffs on imported goods usually means that the cost of those goods will rise. If your business relies on imported components or products, this could lead to an increase in your COGS. Conversely, a reduction in tariffs could lower your COGS.\\n\\n2. **Sourcing and Procurement:** Changes in tariffs might necessitate a reevaluation of your sourcing strategy. If tariffs make importing goods from a particular country cost-prohibitive, you may need to find alternative suppliers or consider reshoring some of your supply chain operations.\\n\\n3. **Pricing and Profit Margins:** Increased costs due to higher tariffs may lead to a need to raise prices for your end products to maintain profit margins. This could affect your competitive positioning in the market, especially if your competitors are less affected by the tariff changes.\\n\\n4. **Inventory Management:** In anticipation of tariff changes, businesses might alter their inventory management strategies, either by stockpiling goods before tariffs take effect or by reducing inventory to avoid excess costs. Both strategies have risks, such as increased inventory carrying costs or potential stockouts.\\n\\n5. **Supply Chain Flexibility and Risk Management:** Tariff changes can introduce new supply chain risks. Companies may need to invest in supply chain flexibility to quickly adapt to policy changes, such as by diversifying their supplier base or investing in new logistic capabilities.\\n\\n6. **Regulatory Compliance and Administration:** Changes in tariffs can bring about increased regulatory complexity, requiring additional administrative resources to ensure compliance. This may involve updating systems and processes to handle new customs documentation and tariffs.\\n\\n7. **Consumer Demand:** Tariff-induced price changes can affect consumer demand for certain goods. If prices increase significantly due to tariffs, demand may drop. Conversely, if tariffs are reduced and prices fall, demand might increase.\\n\\n8. **Trade Relationships and Negotiations:** Tariffs are often used as a tool in broader trade negotiations. Changes in tariffs can signal shifts in international trade relationships, which can have broader implications for market access and competitive dynamics.\\n\\n9. **Currency Fluctuations:** Tariff announcements can lead to currency fluctuations as markets react to potential impacts on trade balances. A stronger currency could make exports more expensive and imports cheaper, while a weaker currency has the opposite effect.\\n\\n10. **Long-term Strategic Planning:** Uncertainty around tariff policies can make long-term business planning more challenging. Businesses might need to develop multiple strategic scenarios to account for different potential outcomes in the international trade environment.\\n\\nTo analyze the specific impacts on your supply chain and operations, it's essential to review the details of the tariff changes, assess your company's exposure to affected goods, and consult with supply chain experts, economists, and trade specialists. Additionally, staying informed about economic trends and forecasts related to tariffs and international trade can help in making strategic decisions.\", name='Economist')]}}\n",
      "---\n",
      "{'supervisor': {'next': 'Industrial_Sector_Analyst'}}\n",
      "---\n",
      "{'Industrial_Sector_Analyst': {'messages': [HumanMessage(content=\"Based on the research and financial market data, here's an integrated analysis of the impact of government policy changes on tariffs and how they might affect supply chains and business operations:\\n\\n**Research Insights:**\\n- The first paper by L Dong and P Kouvelis focuses on how tariffs influence global supply chain network configurations. This research is likely to provide models and predictions that can help understand the strategic adjustments businesses might need to make in response to tariff changes.\\n- GM Grossman and E Helpman have authored papers that discuss the disruption of global supply chains due to tariffs, indicating the complexities and ripple effects such disruptions can cause across different industries.\\n- RB Handfield, G Graham, and L Burns explore the intersection of tariffs with other global events like trade wars and the coronavirus pandemic, suggesting that businesses need to adapt their supply chain evolutionary design to mitigate risks.\\n- Research on the impact of tariffs on manufacturing-supply chain risks, sourcing strategies, and export growth highlights the multifaceted challenges businesses face, including decision-making on outsourcing and the effects of protectionist policies.\\n- The impact of non-tariff measures on supply chains is also relevant, as discussed by A Strutt, J Gibson, and T Walmsley, since it complements the understanding of how tariffs are part of broader trade regulations affecting supply chains.\\n\\n**Financial Market Reactions:**\\n- The Google Finance data does not provide a detailed summary, but it does indicate market movements in Europe and Asia. Europe is shown to have an upward price movement, while Asia's price movement is downward. This might suggest regional differences in the impact of tariffs on financial markets, potentially reflecting the varying dependency of these regions on imported goods and their exposure to tariff changes.\\n\\n**Conclusion and Recommendations:**\\n- Companies should closely examine the research that models the impact of tariffs on supply chain configurations and use these insights to re-evaluate their current supply chain strategies.\\n- Understanding the disruptions caused by tariffs on global supply chains is crucial for risk management and the development of contingency plans.\\n- The interplay between tariffs, trade wars, and global events like pandemics should inform a company's strategic planning and risk mitigation efforts.\\n- It is important to monitor financial markets for indications of how tariff changes are perceived by investors and their potential impact on different sectors.\\n- Businesses should remain agile and consider diversifying their supplier base to minimize the risks associated with tariff volatility.\\n- Finally, staying informed about both tariff and non-tariff measures is essential for comprehensive supply chain and operational planning.\\n\\nThis analysis provides a multi-faceted view of the potential impacts of tariff changes, combining theoretical research with market data to inform strategic decision-making.\", name='Industrial_Sector_Analyst')]}}\n",
      "---\n",
      "{'supervisor': {'next': 'FINISH'}}\n",
      "---\n"
     ]
    }
   ],
   "source": [
    "for s in research_chain.stream(\n",
    "\"Government policies regarding tariffs on imported goods are undergoing changes. How might this affect our supply chain and overall business operations?\",\n",
    "    {\"recursion_limit\": 100}\n",
    "):\n",
    "    if \"__end__\" not in s:\n",
    "        print(s)\n",
    "        print(\"---\")"
   ]
  },
  {
   "cell_type": "markdown",
   "id": "b5726845-bb86-45d8-9f7a-cb8d53fa4f1b",
   "metadata": {},
   "source": [
    "## Human Resources Team"
   ]
  },
  {
   "cell_type": "code",
   "execution_count": 10,
   "id": "d95e8651-3824-4095-a40a-83615715406c",
   "metadata": {},
   "outputs": [],
   "source": [
    "import functools\n",
    "import operator\n",
    "\n",
    "from langchain_core.messages import AIMessage, BaseMessage, HumanMessage\n",
    "from langchain_openai.chat_models import ChatOpenAI\n",
    "import functools\n",
    "\n",
    "\n",
    "# Research team graph state\n",
    "class HumanResourcesTeamState(TypedDict):\n",
    "    # A message is added after each team member finishes\n",
    "    messages: Annotated[List[BaseMessage], operator.add]\n",
    "    # The team members are tracked so they are aware of\n",
    "    # the others' skill-sets\n",
    "    team_members: List[str]\n",
    "    # Used to route work. The supervisor calls a function\n",
    "    # that will update this every time it makes a decision\n",
    "    next: str\n",
    "\n",
    "\n",
    "llm = ChatOpenAI(model=\"gpt-4-1106-preview\")\n",
    "\n",
    "recruitment_specialist_agent = create_agent(\n",
    "    llm,\n",
    "    recruitment_specialist_tools,\n",
    "    \"You are a Recruitment Specialist responsible for sourcing, screening, and selecting qualified candidates to fill job vacancies within an organization, ensuring a smooth and efficient hiring process.\" + prevent_endless_loops_template,\n",
    ")\n",
    "recruitment_specialist_node = functools.partial(agent_node, agent=recruitment_specialist_agent, name=\"Recruitment_Specialist\")\n",
    "\n",
    "payroll_and_personnel_agent = create_agent(\n",
    "    llm,\n",
    "    payroll_and_personnel_tools,\n",
    "    \"You are responsible for managing payroll processes and handling personnel-related matters within an organization, ensuring accurate and timely compensation for employees while maintaining compliance with regulations and policies.\" + prevent_endless_loops_template,\n",
    ")\n",
    "payroll_and_personnel_node = functools.partial(agent_node, agent=payroll_and_personnel_agent, name=\"Payroll_and_Personnel\")\n",
    "\n",
    "supervisor_agent = create_team_supervisor(\n",
    "    llm,\n",
    "    \"You are a supervisor tasked with managing a conversation between the\"\n",
    "    \" following workers:  Recruitment_Specialist, Payroll_and_Personnel. Given the following user request,\"\n",
    "    \" respond with the worker to act next. Each worker will perform a\"\n",
    "    \" task and respond with their results and status. When finished,\"\n",
    "    \" respond with FINISH. Do not call a tool more than once.\"\n",
    "    \"Do not call another tool if the tool returns results.\",\n",
    "    [\"Recruitment_Specialist\", \"Payroll_and_Personnel\"],\n",
    ")"
   ]
  },
  {
   "cell_type": "markdown",
   "id": "af43db93-7f01-4574-8952-5e4935c15a39",
   "metadata": {},
   "source": [
    "Human Resources Team Graph"
   ]
  },
  {
   "cell_type": "code",
   "execution_count": 11,
   "id": "befb3c7b-f2ca-4832-bbcc-a7e523da3b4b",
   "metadata": {},
   "outputs": [],
   "source": [
    "human_resources_graph = StateGraph(HumanResourcesTeamState)\n",
    "human_resources_graph.add_node(\"Recruitment_Specialist\", recruitment_specialist_node)\n",
    "human_resources_graph.add_node(\"Payroll_and_Personnel\", payroll_and_personnel_node)\n",
    "human_resources_graph.add_node(\"supervisor\", supervisor_agent)\n",
    "\n",
    "# Define the control flow\n",
    "human_resources_graph.add_edge(\"Recruitment_Specialist\", \"supervisor\")\n",
    "human_resources_graph.add_edge(\"Payroll_and_Personnel\", \"supervisor\")\n",
    "\n",
    "human_resources_graph.add_conditional_edges(\n",
    "    \"supervisor\",\n",
    "    lambda x: x[\"next\"],\n",
    "    {\n",
    "        \"Recruitment_Specialist\": \"Recruitment_Specialist\",\n",
    "        \"Payroll_and_Personnel\": \"Payroll_and_Personnel\",\n",
    "        \"FINISH\": END\n",
    "    },\n",
    ")\n",
    "\n",
    "\n",
    "human_resources_graph.set_entry_point(\"supervisor\")\n",
    "chain = human_resources_graph.compile()\n",
    "\n",
    "\n",
    "# The following functions interoperate between the top level graph state\n",
    "# and the state of the research sub-graph\n",
    "# this makes it so that the states of each graph don't get intermixed\n",
    "def enter_chain(message: str):\n",
    "    results = {\n",
    "        \"messages\": [HumanMessage(content=message)],\n",
    "    }\n",
    "    return results\n",
    "\n",
    "\n",
    "human_resources_chain = enter_chain | chain"
   ]
  },
  {
   "cell_type": "code",
   "execution_count": 11,
   "id": "a93ec5f4-a3a6-4146-bec7-ee4b388e1487",
   "metadata": {
    "scrolled": true
   },
   "outputs": [
    {
     "name": "stdout",
     "output_type": "stream",
     "text": [
      "{'supervisor': {'next': 'Recruitment_Specialist'}}\n",
      "---\n",
      "{'Recruitment_Specialist': {'messages': [HumanMessage(content=\"To attract top talent in the competitive field of engineering, a tailored recruitment strategy should include the following key elements:\\n\\n1. **Employer Branding:**\\n   - Highlight the company's culture, mission, and values.\\n   - Showcase innovative projects and technologies the team is working on.\\n   - Share testimonials and stories from current engineers about their experiences and growth within the company.\\n\\n2. **Competitive Compensation and Benefits:**\\n   - Research industry standards to offer competitive salaries.\\n   - Provide a comprehensive benefits package that includes health, retirement savings plans, and perks like flexible work hours or remote work options.\\n   - Consider offering sign-on bonuses or performance incentives.\\n\\n3. **Outreach and Sourcing:**\\n   - Utilize professional networks like LinkedIn to identify and reach out to passive candidates.\\n   - Attend job fairs, industry conferences, and networking events to meet potential candidates in person.\\n   - Work with universities and technical institutes to source fresh talent through internships and co-op programs.\\n\\n4. **Job Postings and Descriptions:**\\n   - Craft clear and enticing job descriptions that accurately reflect the role and its impact within the company.\\n   - Highlight opportunities for career advancement and continuous learning.\\n   - Post job openings on multiple platforms, including industry-specific job boards, to maximize visibility.\\n\\n5. **Candidate Experience:**\\n   - Streamline the application process to be user-friendly and responsive.\\n   - Communicate transparently with candidates about the status of their application.\\n   - Provide a positive interview experience, regardless of the outcome.\\n\\n6. **Interview Process:**\\n   - Design an interview process that assesses both technical skills and cultural fit.\\n   - Include a variety of interview methods, such as technical challenges, behavioral interviews, and team meetings.\\n   - Train interviewers on best practices to ensure consistency and fairness.\\n\\n7. **Onboarding and Retention:**\\n   - Develop a robust onboarding program to help new hires integrate into the team.\\n   - Offer mentorship and professional development opportunities to support career growth.\\n   - Implement retention strategies to keep employees engaged and reduce turnover.\\n\\n8. **Diversity and Inclusion:**\\n   - Promote diversity in the workplace by reaching out to underrepresented groups within engineering.\\n   - Create an inclusive environment where all employees feel valued and have equal opportunities.\\n\\n9. **Employee Referral Program:**\\n   - Encourage current employees to refer qualified candidates by offering incentives.\\n   - Leverage the networks of your team to reach a broader audience of potential candidates.\\n\\n10. **Use of Technology:**\\n    - Implement an Applicant Tracking System (ATS) to manage applications and improve efficiency.\\n    - Utilize AI and data analytics to optimize the recruitment process and make data-driven decisions.\\n\\nBy focusing on these elements and continuously refining your recruitment strategy based on feedback and industry trends, you can attract and hire top engineering talent to drive your company's success.\", name='Recruitment_Specialist')]}}\n",
      "---\n",
      "{'supervisor': {'next': 'FINISH'}}\n",
      "---\n"
     ]
    }
   ],
   "source": [
    "for s in human_resources_chain.stream(\n",
    "\"We're expanding our engineering team. How would you tailor our recruitment strategy to attract top talent in this competitive field?\",\n",
    "    {\"recursion_limit\": 100}\n",
    "):\n",
    "    if \"__end__\" not in s:\n",
    "        print(s)\n",
    "        print(\"---\")"
   ]
  },
  {
   "cell_type": "markdown",
   "id": "1abbbd97-f615-4457-a987-2017bd853301",
   "metadata": {},
   "source": [
    "## Help Desk Team"
   ]
  },
  {
   "cell_type": "code",
   "execution_count": 12,
   "id": "1d9b01ad-ae60-4aef-bf2d-069b4b0edd33",
   "metadata": {},
   "outputs": [],
   "source": [
    "import functools\n",
    "import operator\n",
    "\n",
    "from langchain_core.messages import AIMessage, BaseMessage, HumanMessage\n",
    "from langchain_openai.chat_models import ChatOpenAI\n",
    "import functools\n",
    "\n",
    "\n",
    "# Research team graph state\n",
    "class HelpDeskTeamState(TypedDict):\n",
    "    # A message is added after each team member finishes\n",
    "    messages: Annotated[List[BaseMessage], operator.add]\n",
    "    # The team members are tracked so they are aware of\n",
    "    # the others' skill-sets\n",
    "    team_members: List[str]\n",
    "    # Used to route work. The supervisor calls a function\n",
    "    # that will update this every time it makes a decision\n",
    "    next: str\n",
    "\n",
    "\n",
    "llm = ChatOpenAI(model=\"gpt-4-1106-preview\")\n",
    "\n",
    "network_malfunction_specialist_agent = create_agent(\n",
    "    llm,\n",
    "    network_malfunction_specialist_tools,\n",
    "    \"You are a Network Malfunction Specialist tasked with diagnosing and resolving issues related to network infrastructure, such as connectivity problems, security breaches, or performance issues, to ensure smooth operations within an organization.\" + prevent_endless_loops_template,\n",
    ")\n",
    "network_malfunction_specialist_node = functools.partial(agent_node, agent=network_malfunction_specialist_agent, name=\"Network_Malfunction_Specialist\")\n",
    "\n",
    "mobile_banking_malfunction_specialist_agent = create_agent(\n",
    "    llm,\n",
    "    mobile_banking_malfunction_specialist_tools,\n",
    "    \"You are a Mobile Banking Malfunction Specialist responsible for troubleshooting and resolving technical issues encountered by users of mobile banking applications, ensuring a seamless and secure banking experience on mobile devices.\" + prevent_endless_loops_template,\n",
    ")\n",
    "mobile_banking_malfunction_specialist_node = functools.partial(agent_node, agent=mobile_banking_malfunction_specialist_agent, name=\"Mobile_Banking_Malfunction_Specialist\")\n",
    "\n",
    "transaction_error_specialist_agent = create_agent(\n",
    "    llm,\n",
    "    transaction_error_specialist_tools,\n",
    "    \"You are a Transaction Error Specialist tasked with investigating and rectifying errors or discrepancies in financial transactions, such as incorrect charges, failed payments, or account discrepancies, to maintain the integrity of financial records and ensure customer satisfaction.\" + prevent_endless_loops_template,\n",
    ")\n",
    "transaction_error_specialist_node = functools.partial(agent_node, agent=transaction_error_specialist_agent, name=\"Transaction_Error_Specialist\")\n",
    "\n",
    "customer_satisfaction_specialist_agent = create_agent(\n",
    "    llm,\n",
    "    customer_satisfaction_specialist_tools,\n",
    "    \"You are a Customer Satisfaction Specialist focused on monitoring customer feedback, addressing inquiries or complaints, and implementing strategies to enhance the overall customer experience and satisfaction with products or services offered by an organization.\" + prevent_endless_loops_template,\n",
    ")\n",
    "customer_satisfaction_specialist_node = functools.partial(agent_node, agent=customer_satisfaction_specialist_agent, name=\"Customer_Satisfaction_Specialist\")\n",
    "\n",
    "\n",
    "supervisor_agent = create_team_supervisor(\n",
    "    llm,\n",
    "    \"You are a supervisor tasked with managing a conversation between the\"\n",
    "    \" following workers:  Network_Malfunction_Specialist, Mobile_Banking_Malfunction_Specialist, Transaction_Error_Specialist, Customer_Satisfaction_Specialist. Given the following user request,\"\n",
    "    \" respond with the worker to act next. Each worker will perform a\"\n",
    "    \" task and respond with their results and status. When finished,\"\n",
    "    \" respond with FINISH. Do not call a tool more than once.\"\n",
    "    \"Do not call another tool if the tool returns results.\",\n",
    "    [\"Network_Malfunction_Specialist\", \"Mobile_Banking_Malfunction_Specialist\" , \"Transaction_Error_Specialist\" , \"Customer_Satisfaction_Specialist\"],\n",
    ")"
   ]
  },
  {
   "cell_type": "markdown",
   "id": "3b22ff0b-6cbb-4220-9d67-4dff948d2df3",
   "metadata": {},
   "source": [
    "Help Desk Team Graph"
   ]
  },
  {
   "cell_type": "code",
   "execution_count": 13,
   "id": "e8c53033-f110-4c82-b372-c9f6aef73ddf",
   "metadata": {},
   "outputs": [],
   "source": [
    "help_desk_graph = StateGraph(HelpDeskTeamState)\n",
    "help_desk_graph.add_node(\"Network_Malfunction_Specialist\", network_malfunction_specialist_node)\n",
    "help_desk_graph.add_node(\"Mobile_Banking_Malfunction_Specialist\", mobile_banking_malfunction_specialist_node)\n",
    "help_desk_graph.add_node(\"Transaction_Error_Specialist\", transaction_error_specialist_node)\n",
    "help_desk_graph.add_node(\"Customer_Satisfaction_Specialist\", customer_satisfaction_specialist_node)\n",
    "help_desk_graph.add_node(\"supervisor\", supervisor_agent)\n",
    "\n",
    "# Define the control flow\n",
    "help_desk_graph.add_edge(\"Network_Malfunction_Specialist\", \"supervisor\")\n",
    "help_desk_graph.add_edge(\"Mobile_Banking_Malfunction_Specialist\", \"supervisor\")\n",
    "help_desk_graph.add_edge(\"Transaction_Error_Specialist\", \"supervisor\")\n",
    "help_desk_graph.add_edge(\"Customer_Satisfaction_Specialist\", \"supervisor\")\n",
    "\n",
    "help_desk_graph.add_conditional_edges(\n",
    "    \"supervisor\",\n",
    "    lambda x: x[\"next\"],\n",
    "    {\n",
    "        \"Network_Malfunction_Specialist\": \"Network_Malfunction_Specialist\",\n",
    "        \"Mobile_Banking_Malfunction_Specialist\": \"Mobile_Banking_Malfunction_Specialist\",\n",
    "        \"Transaction_Error_Specialist\": \"Transaction_Error_Specialist\",\n",
    "        \"Customer_Satisfaction_Specialist\": \"Customer_Satisfaction_Specialist\",\n",
    "        \"FINISH\": END\n",
    "    },\n",
    ")\n",
    "\n",
    "\n",
    "help_desk_graph.set_entry_point(\"supervisor\")\n",
    "chain = help_desk_graph.compile()\n",
    "\n",
    "\n",
    "# The following functions interoperate between the top level graph state\n",
    "# and the state of the research sub-graph\n",
    "# this makes it so that the states of each graph don't get intermixed\n",
    "def enter_chain(message: str):\n",
    "    results = {\n",
    "        \"messages\": [HumanMessage(content=message)],\n",
    "    }\n",
    "    return results\n",
    "\n",
    "\n",
    "help_desk_chain = enter_chain | chain"
   ]
  },
  {
   "cell_type": "code",
   "execution_count": 14,
   "id": "85e10aee-fa5c-434f-9971-60476dea27e2",
   "metadata": {
    "scrolled": true
   },
   "outputs": [
    {
     "name": "stdout",
     "output_type": "stream",
     "text": [
      "{'supervisor': {'next': 'Network_Malfunction_Specialist'}}\n",
      "---\n",
      "{'Network_Malfunction_Specialist': {'messages': [HumanMessage(content='Prioritizing and troubleshooting network issues effectively requires an understanding of the business impact, the severity of the issue, and the resources available to address the problem. Here’s a general approach to handling network issues:\\n\\n1. **Initial Assessment:**\\n   - **Identify the scope of the issue:** Determine whether the problem is affecting a single user, a department, an entire office, or multiple locations.\\n   - **Determine the impact on business operations:** Consider how critical the affected services are to the daily operations of the business.\\n   - **Gather initial information:** Collect error messages, user reports, and any other relevant information.\\n\\n2. **Prioritization:**\\n   - **Severity:** Issues that cause widespread outages or affect critical systems should be given the highest priority.\\n   - **Urgency:** Consider deadlines or time-sensitive operations that may be affected.\\n   - **Frequency:** Recurring problems may indicate a systemic issue that needs immediate attention.\\n   - **Resource Availability:** Determine if the necessary resources (staff, equipment, etc.) are available to address the issue.\\n\\n3. **Troubleshooting:**\\n   - **Replicate the problem** (if possible): Confirm the issue by attempting to replicate it based on the information gathered.\\n   - **Check the network infrastructure:** Inspect devices such as routers, switches, and firewalls for any obvious issues (status lights, error messages).\\n   - **Review logs and monitoring tools:** Analyze system logs, error reports, and network monitoring tools for clues.\\n   - **Isolate the issue:** Use a process of elimination to narrow down the cause. This may involve segmenting the network, disabling or enabling components, or testing with alternative configurations.\\n   - **Test Connectivity:** Use tools like ping, traceroute, or telnet to test connectivity to various network points.\\n\\n4. **Resolution:**\\n   - **Apply a fix:** Once the cause is identified, apply the necessary fix. This could be a configuration change, hardware replacement, software update, or other corrective action.\\n   - **Verify the fix:** Confirm that the issue is resolved by checking with affected users or monitoring network performance.\\n   - **Document the issue and resolution:** Keep detailed records of the problem, the investigation, and the solution for future reference.\\n\\n5. **Follow-up:**\\n   - **Monitor for recurrence:** Keep an eye on the systems that were affected to ensure the problem does not recur.\\n   - **Review and adjust processes:** Determine if there are any lessons learned that can improve future response times or prevent similar issues.\\n   - **Communicate with stakeholders:** Update all relevant parties on the status of the resolution and any potential impact that was mitigated.\\n\\nIn a real-world scenario, you may need to juggle multiple issues simultaneously, which means dynamically reassessing priorities based on the evolving situation. Automation tools, network management systems, and established protocols can help streamline this process.', name='Network_Malfunction_Specialist')]}}\n",
      "---\n",
      "{'supervisor': {'next': 'FINISH'}}\n",
      "---\n"
     ]
    }
   ],
   "source": [
    "for s in help_desk_chain.stream(\n",
    "    \"How do you prioritize and troubleshoot network issues based on their severity and impact on operations?\", \n",
    "    {\"recursion_limit\": 100}\n",
    "):\n",
    "    if \"__end__\" not in s:\n",
    "        print(s)\n",
    "        print(\"---\")"
   ]
  },
  {
   "cell_type": "code",
   "execution_count": 15,
   "id": "dd6852b9-30bd-49d2-ba21-3c06e724c21b",
   "metadata": {
    "scrolled": true
   },
   "outputs": [
    {
     "name": "stdout",
     "output_type": "stream",
     "text": [
      "{'supervisor': {'next': 'Mobile_Banking_Malfunction_Specialist'}}\n",
      "---\n",
      "{'Mobile_Banking_Malfunction_Specialist': {'messages': [HumanMessage(content=\"Addressing customer concerns regarding mobile banking app glitches or usability issues involves a multi-step process to ensure that the customer feels heard, supported, and satisfied with the resolution. Here is a general approach to manage such concerns effectively:\\n\\n1. **Listen and Understand:**\\n   - Actively listen to the customer’s issue without interrupting.\\n   - Ask clarifying questions to fully understand the problem.\\n   - Show empathy and acknowledge the inconvenience caused by the glitch or issue.\\n\\n2. **Gather Information:**\\n   - Collect necessary details such as the customer's device type, operating system version, app version, and specific actions leading to the issue.\\n   - Request screenshots or error messages if necessary.\\n\\n3. **Initial Troubleshooting:**\\n   - Guide the customer through basic troubleshooting steps, such as restarting the app, clearing cache, updating the app, or reinstalling it.\\n   - Check if the issue is already known and if there is a standard procedure for resolution.\\n\\n4. **Detailed Investigation:**\\n   - If the issue persists, escalate it to the technical team for a more in-depth investigation.\\n   - Document the issue with all relevant details to assist the technical team.\\n\\n5. **Communicate Progress:**\\n   - Keep the customer informed about the status of their issue.\\n   - Provide realistic timeframes for when they can expect updates or resolutions.\\n\\n6. **Resolution and Follow-up:**\\n   - Once the issue is resolved, guide the customer through the solution to ensure it has been fixed to their satisfaction.\\n   - Follow up after a few days to confirm that the app is functioning well and the customer is happy.\\n\\n7. **Feedback and Improvement:**\\n   - Encourage feedback on how the situation was handled to learn from the experience.\\n   - Share feedback and any recurring issues with the app development team for future improvements.\\n\\n8. **Preventative Measures:**\\n   - Update FAQs or knowledge bases with information on the issue and its resolution.\\n   - If the issue is widespread, communicate proactively with all users about the problem and the steps being taken to resolve it.\\n\\n9. **Security Assurance:**\\n   - Reassure the customer that their personal information and banking details remain secure, especially if the issue might cause concerns about privacy and security.\\n\\n10. **Compensation or Goodwill Gesture:**\\n    - If the issue caused significant inconvenience, consider offering compensation or a goodwill gesture to maintain a positive relationship with the customer.\\n\\nThroughout all these steps, maintaining a professional, courteous, and helpful demeanor is crucial. Quick, efficient, and effective resolution of issues not only solves the immediate problem but also helps in building trust and loyalty with the customer.\", name='Mobile_Banking_Malfunction_Specialist')]}}\n",
      "---\n",
      "{'supervisor': {'next': 'FINISH'}}\n",
      "---\n"
     ]
    }
   ],
   "source": [
    "for s in help_desk_chain.stream(\n",
    "    \"How do you address customer concerns regarding mobile banking app glitches or usability issues?\", \n",
    "    {\"recursion_limit\": 100}\n",
    "):\n",
    "    if \"__end__\" not in s:\n",
    "        print(s)\n",
    "        print(\"---\")"
   ]
  },
  {
   "cell_type": "code",
   "execution_count": 16,
   "id": "e5a7e482-b044-4e08-b80a-a56dcfa99aa0",
   "metadata": {
    "scrolled": true
   },
   "outputs": [
    {
     "name": "stdout",
     "output_type": "stream",
     "text": [
      "{'supervisor': {'next': 'Transaction_Error_Specialist'}}\n",
      "---\n",
      "{'Transaction_Error_Specialist': {'messages': [HumanMessage(content='As a Transaction Error Specialist, identifying and rectifying transaction errors promptly and accurately involves a systematic approach that includes several key strategies:\\n\\n1. **Error Detection Techniques**:\\n   - Automated Alerts: Setting up automated systems that flag unusual activity or inconsistencies in transaction records.\\n   - Reconciliation Procedures: Regularly comparing transaction records against account balances to ensure they match.\\n   - Data Analysis: Utilizing data analytics to identify patterns that could indicate errors, such as duplicate transactions or outliers.\\n\\n2. **Investigation Procedures**:\\n   - Transaction Auditing: Reviewing the details of transactions to verify their accuracy.\\n   - Documentation Review: Examining related documentation such as receipts, invoices, or contracts for discrepancies.\\n   - Communication: Contacting involved parties, such as customers, banks, or internal departments, to gather more information.\\n\\n3. **Error Correction Methods**:\\n   - Transaction Adjustments: Making necessary adjustments to correct the error, such as issuing refunds or additional charges with proper authorization.\\n   - Process Improvement: Identifying the root causes of errors and improving processes to prevent future occurrences.\\n   - Training: Ensuring that all relevant staff are trained on new procedures and best practices to minimize human error.\\n\\n4. **Customer Service Management**:\\n   - Timely Communication: Informing customers promptly about any errors affecting their accounts and the steps being taken to rectify them.\\n   - Resolution Tracking: Keeping detailed records of error resolutions to ensure that each case is closed satisfactorily.\\n   - Service Recovery: Implementing service recovery strategies to restore customer trust and satisfaction if an error impacts them.\\n\\n5. **Regulatory Compliance**:\\n   - Legal Guidelines: Ensuring all error-handling procedures comply with relevant financial regulations and laws.\\n   - Audit Trails: Maintaining clear and comprehensive records of all transactions and corrections for auditing purposes.\\n\\n6. **Technology Utilization**:\\n   - Software Tools: Leveraging specialized software designed to detect and manage transaction errors efficiently.\\n   - Continuous Monitoring: Implementing continuous monitoring systems for real-time detection of transactional discrepancies.\\n\\n7. **Feedback Loop**:\\n   - Reporting Mechanisms: Creating channels for stakeholders to report potential issues or errors.\\n   - Review and Adaptation: Regularly reviewing error-handling procedures and adapting them based on feedback and evolving best practices.\\n\\n8. **Collaboration and Escalation**:\\n   - Cross-Departmental Communication: Ensuring open lines of communication between different departments that may impact transactions.\\n   - Escalation Protocols: Establishing clear protocols for escalating complex or high-risk errors to higher-level management or specialized teams.\\n\\nBy employing these strategies, a Transaction Error Specialist can effectively identify and rectify errors, thereby maintaining the integrity of financial records and ensuring customer satisfaction.', name='Transaction_Error_Specialist')]}}\n",
      "---\n",
      "{'supervisor': {'next': 'FINISH'}}\n",
      "---\n"
     ]
    }
   ],
   "source": [
    "for s in help_desk_chain.stream(\n",
    "    \"What strategies do you employ to identify and rectify transaction errors promptly and accurately?\",\n",
    "    {\"recursion_limit\": 100}\n",
    "):\n",
    "    if \"__end__\" not in s:\n",
    "        print(s)\n",
    "        print(\"---\")"
   ]
  },
  {
   "cell_type": "code",
   "execution_count": null,
   "id": "2c559a3d-df6b-45f4-a0d0-9f7037f21c41",
   "metadata": {
    "scrolled": true
   },
   "outputs": [
    {
     "name": "stdout",
     "output_type": "stream",
     "text": [
      "{'supervisor': {'next': 'Customer_Satisfaction_Specialist'}}\n",
      "---\n"
     ]
    }
   ],
   "source": [
    "for s in help_desk_chain.stream(\n",
    "    \"How do you handle challenging customer interactions to ensure a positive resolution and maintain overall customer satisfaction levels?\",\n",
    "    {\"recursion_limit\": 100}\n",
    "):\n",
    "    if \"__end__\" not in s:\n",
    "        print(s)\n",
    "        print(\"---\")"
   ]
  },
  {
   "cell_type": "markdown",
   "id": "a66c2e0b-7e12-4c40-ad83-d7ef172660ce",
   "metadata": {},
   "source": [
    "## Add Layers"
   ]
  },
  {
   "cell_type": "code",
   "execution_count": 14,
   "id": "e8fd0cf7-844b-41ca-8d6e-d945aabbd46c",
   "metadata": {},
   "outputs": [],
   "source": [
    "from langchain_core.messages import AIMessage, BaseMessage, HumanMessage\n",
    "from langchain_openai.chat_models import ChatOpenAI\n",
    "\n",
    "\n",
    "llm = ChatOpenAI(model=\"gpt-4-1106-preview\")\n",
    "\n",
    "supervisor_node = create_team_supervisor(\n",
    "    llm,\n",
    "    \"You are a supervisor tasked with managing a conversation between the\"\n",
    "    \" following teams: {team_members}. Given the following user request,\"\n",
    "    \" respond with the worker to act next. Each worker will perform a\"\n",
    "    \" task and respond with their results and status. When finished,\"\n",
    "    \" respond with FINISH. Do not call a tool more than once.\"\n",
    "    \"Do not call another tool if the tool returns results.\",\n",
    "    [\"Research_Team\", \"Human_Resources_Team\", \"Help_Desk_Team\"],\n",
    ")"
   ]
  },
  {
   "cell_type": "code",
   "execution_count": 15,
   "id": "1ce19220-713a-4316-97e0-b0a3b52bbcdc",
   "metadata": {},
   "outputs": [],
   "source": [
    "# Top-level graph state\n",
    "class State(TypedDict):\n",
    "    messages: Annotated[List[BaseMessage], operator.add]\n",
    "    next: str\n",
    "\n",
    "\n",
    "def get_last_message(state: State) -> str:\n",
    "    return state[\"messages\"][-1].content\n",
    "\n",
    "\n",
    "def join_graph(response: dict):\n",
    "    return {\"messages\": [response[\"messages\"][-1]]}\n",
    "\n",
    "\n",
    "# Define the graph.\n",
    "super_graph = StateGraph(State)\n",
    "# First add the nodes, which will do the work\n",
    "super_graph.add_node(\"Research_Team\", get_last_message | research_chain | join_graph)\n",
    "super_graph.add_node(\n",
    "    \"Human_Resources_Team\", get_last_message | human_resources_chain | join_graph\n",
    ")\n",
    "super_graph.add_node(\n",
    "    \"Help_Desk_Team\", get_last_message | help_desk_chain | join_graph\n",
    ")\n",
    "super_graph.add_node(\"supervisor\", supervisor_node)\n",
    "\n",
    "# Define the graph connections, which controls how the logic\n",
    "# propagates through the program\n",
    "super_graph.add_edge(\"Research_Team\", \"supervisor\")\n",
    "super_graph.add_edge(\"Human_Resources_Team\", \"supervisor\")\n",
    "super_graph.add_edge(\"Help_Desk_Team\", \"supervisor\")\n",
    "super_graph.add_conditional_edges(\n",
    "    \"supervisor\",\n",
    "    lambda x: x[\"next\"],\n",
    "    {\n",
    "        \"Research_Team\": \"Research_Team\",\n",
    "        \"Human_Resources_Team\": \"Human_Resources_Team\",\n",
    "        \"Help_Desk_Team\": \"Help_Desk_Team\",\n",
    "        \"FINISH\": END,\n",
    "    },\n",
    ")\n",
    "super_graph.set_entry_point(\"supervisor\")\n",
    "super_graph = super_graph.compile()"
   ]
  },
  {
   "cell_type": "code",
   "execution_count": 16,
   "id": "6c73afbb-b74f-4d0a-a975-3fc7fed13717",
   "metadata": {
    "scrolled": true
   },
   "outputs": [
    {
     "name": "stdout",
     "output_type": "stream",
     "text": [
      "{'supervisor': {'next': 'Help_Desk_Team'}}\n",
      "---\n",
      "{'Help_Desk_Team': {'messages': [HumanMessage(content='Certainly! If a customer is seeing an \"Authorization failed: Incorrect password\" error message when attempting to log in to a mobile banking application, here are some potential solutions to troubleshoot and resolve the issue:\\n\\n1. **Check Caps Lock and Typing Errors:**\\n   - Ensure that the Caps Lock key is not enabled on the device\\'s keyboard.\\n   - Double-check that the password is being typed correctly, paying close attention to any characters that can be easily mistaken for others (e.g., O vs. 0, I vs. l).\\n\\n2. **Reset Password:**\\n   - Use the \"Forgot Password\" or \"Reset Password\" feature typically found on the login screen to reset the password. This process often involves sending a secure link to the registered email address or a code to the registered phone number for verification.\\n\\n3. **Update Mobile Banking App:**\\n   - Check if there is an update available for the mobile banking app in the app store. Sometimes, outdated app versions can cause login issues.\\n\\n4. **Clear Cache and Data:**\\n   - Clear the cache and data for the mobile banking app from the device\\'s settings. This action can sometimes resolve login problems caused by corrupted cache files.\\n\\n5. **Reinstall the Mobile Banking App:**\\n   - Uninstalling and then reinstalling the mobile banking app can fix issues that may have arisen from a faulty installation or update process.\\n\\n6. **Check for Device Compatibility:**\\n   - Make sure that the device is compatible with the latest version of the mobile banking app. Some apps may not support older operating systems or device models.\\n\\n7. **Check for Keyboard Issues:**\\n   - If using a third-party keyboard app, try switching to the default keyboard to see if the issue persists.\\n\\n8. **Ensure Correct User ID:**\\n   - Confirm that the user ID or account username is correct. Some users may mistakenly enter their email or other identifiers.\\n\\n9. **Enable/Disable Autofill:**\\n   - If the password is being auto-filled by the device, try typing it in manually instead. Alternatively, if the password is not being remembered, consider enabling autofill in the device\\'s settings for convenience.\\n\\n10. **Contact Customer Support:**\\n    - If none of the above solutions work, advise the customer to contact the bank\\'s customer support. The support team can verify the user\\'s identity and help in resolving the issue, whether it\\'s account-related or technical.\\n\\nAlways remind customers to ensure they have a stable internet connection before attempting to log in, as intermittent connectivity can also lead to authorization errors. Additionally, advise them to never share their password with anyone and to ensure they are using a secure and private network, especially when handling sensitive banking information.', name='Mobile_Banking_Malfunction_Specialist')]}}\n",
      "---\n",
      "{'supervisor': {'next': 'Help_Desk_Team'}}\n",
      "---\n",
      "{'Help_Desk_Team': {'messages': [HumanMessage(content=\"Apologies for the confusion. As a Mobile Banking Malfunction Specialist, my role is to assist with any technical issues encountered by users of mobile banking applications. If you're experiencing a specific problem with a mobile banking app or have an inquiry about resolving issues within such apps, please provide me with the relevant details. This could include error messages, descriptions of the issue, or any other information that could help me diagnose and troubleshoot the problem effectively.\", name='Mobile_Banking_Malfunction_Specialist')]}}\n",
      "---\n",
      "{'supervisor': {'next': 'Help_Desk_Team'}}\n",
      "---\n",
      "{'Help_Desk_Team': {'messages': [HumanMessage(content=\"Apologies for the confusion. As a Mobile Banking Malfunction Specialist, my role is to assist with any technical issues encountered by users of mobile banking applications. If you're experiencing a specific problem with a mobile banking app or have an inquiry about resolving issues within such apps, please provide me with the relevant details. This could include error messages, descriptions of the issue, or any other information that could help me diagnose and troubleshoot the problem effectively.\")]}}\n",
      "---\n",
      "{'supervisor': {'next': 'Help_Desk_Team'}}\n",
      "---\n",
      "{'Help_Desk_Team': {'messages': [HumanMessage(content=\"Apologies for the confusion. As a Mobile Banking Malfunction Specialist, my role is to assist with any technical issues encountered by users of mobile banking applications. If you're experiencing a specific problem with a mobile banking app or have an inquiry about resolving issues within such apps, please provide me with the relevant details. This could include error messages, descriptions of the issue, or any other information that could help me diagnose and troubleshoot the problem effectively.\")]}}\n",
      "---\n",
      "{'supervisor': {'next': 'Help_Desk_Team'}}\n",
      "---\n",
      "{'Help_Desk_Team': {'messages': [HumanMessage(content=\"Apologies for the confusion. As a Mobile Banking Malfunction Specialist, my role is to assist with any technical issues encountered by users of mobile banking applications. If you're experiencing a specific problem with a mobile banking app or have an inquiry about resolving issues within such apps, please provide me with the relevant details. This could include error messages, descriptions of the issue, or any other information that could help me diagnose and troubleshoot the problem effectively.\")]}}\n",
      "---\n",
      "{'supervisor': {'next': 'Help_Desk_Team'}}\n",
      "---\n",
      "{'Help_Desk_Team': {'messages': [HumanMessage(content=\"Apologies for the confusion. As a Mobile Banking Malfunction Specialist, my role is to assist with any technical issues encountered by users of mobile banking applications. If you're experiencing a specific problem with a mobile banking app or have an inquiry about resolving issues within such apps, please provide me with the relevant details. This could include error messages, descriptions of the issue, or any other information that could help me diagnose and troubleshoot the problem effectively.\")]}}\n",
      "---\n",
      "{'supervisor': {'next': 'Help_Desk_Team'}}\n",
      "---\n",
      "{'Help_Desk_Team': {'messages': [HumanMessage(content=\"Apologies for the confusion. As a Mobile Banking Malfunction Specialist, my role is to assist with any technical issues encountered by users of mobile banking applications. If you're experiencing a specific problem with a mobile banking app or have an inquiry about resolving issues within such apps, please provide me with the relevant details. This could include error messages, descriptions of the issue, or any other information that could help me diagnose and troubleshoot the problem effectively.\")]}}\n",
      "---\n",
      "{'supervisor': {'next': 'Help_Desk_Team'}}\n",
      "---\n",
      "{'Help_Desk_Team': {'messages': [HumanMessage(content=\"Apologies for the confusion. As a Mobile Banking Malfunction Specialist, my role is to assist with any technical issues encountered by users of mobile banking applications. If you're experiencing a specific problem with a mobile banking app or have an inquiry about resolving issues within such apps, please provide me with the relevant details. This could include error messages, descriptions of the issue, or any other information that could help me diagnose and troubleshoot the problem effectively.\")]}}\n",
      "---\n",
      "{'supervisor': {'next': 'Help_Desk_Team'}}\n",
      "---\n",
      "{'Help_Desk_Team': {'messages': [HumanMessage(content=\"Apologies for the confusion. As a Mobile Banking Malfunction Specialist, my role is to assist with any technical issues encountered by users of mobile banking applications. If you're experiencing a specific problem with a mobile banking app or have an inquiry about resolving issues within such apps, please provide me with the relevant details. This could include error messages, descriptions of the issue, or any other information that could help me diagnose and troubleshoot the problem effectively.\")]}}\n",
      "---\n",
      "{'supervisor': {'next': 'Help_Desk_Team'}}\n",
      "---\n",
      "{'Help_Desk_Team': {'messages': [HumanMessage(content=\"Apologies for the confusion. As a Mobile Banking Malfunction Specialist, my role is to assist with any technical issues encountered by users of mobile banking applications. If you're experiencing a specific problem with a mobile banking app or have an inquiry about resolving issues within such apps, please provide me with the relevant details. This could include error messages, descriptions of the issue, or any other information that could help me diagnose and troubleshoot the problem effectively.\")]}}\n",
      "---\n",
      "{'supervisor': {'next': 'Help_Desk_Team'}}\n",
      "---\n",
      "{'Help_Desk_Team': {'messages': [HumanMessage(content=\"Apologies for the confusion. As a Mobile Banking Malfunction Specialist, my role is to assist with any technical issues encountered by users of mobile banking applications. If you're experiencing a specific problem with a mobile banking app or have an inquiry about resolving issues within such apps, please provide me with the relevant details. This could include error messages, descriptions of the issue, or any other information that could help me diagnose and troubleshoot the problem effectively.\")]}}\n",
      "---\n"
     ]
    },
    {
     "ename": "KeyboardInterrupt",
     "evalue": "",
     "output_type": "error",
     "traceback": [
      "\u001b[0;31m---------------------------------------------------------------------------\u001b[0m",
      "\u001b[0;31mKeyboardInterrupt\u001b[0m                         Traceback (most recent call last)",
      "Cell \u001b[0;32mIn[16], line 1\u001b[0m\n\u001b[0;32m----> 1\u001b[0m \u001b[38;5;28;01mfor\u001b[39;00m s \u001b[38;5;129;01min\u001b[39;00m super_graph\u001b[38;5;241m.\u001b[39mstream(\n\u001b[1;32m      2\u001b[0m     {\n\u001b[1;32m      3\u001b[0m         \u001b[38;5;124m\"\u001b[39m\u001b[38;5;124mmessages\u001b[39m\u001b[38;5;124m\"\u001b[39m: [\n\u001b[1;32m      4\u001b[0m             HumanMessage(\n\u001b[1;32m      5\u001b[0m                 content\u001b[38;5;241m=\u001b[39m\u001b[38;5;124m\"\u001b[39m\u001b[38;5;124mA customer just informed us that he cannot login our mobile application and he sees an error message that says \u001b[39m\u001b[38;5;130;01m\\\"\u001b[39;00m\u001b[38;5;124mAuthorization failed: Incorrect password\u001b[39m\u001b[38;5;130;01m\\\"\u001b[39;00m\u001b[38;5;124m. Can you help him by listing out potential solutions?\u001b[39m\u001b[38;5;124m\"\u001b[39m\n\u001b[1;32m      6\u001b[0m             )\n\u001b[1;32m      7\u001b[0m         ],\n\u001b[1;32m      8\u001b[0m     },\n\u001b[1;32m      9\u001b[0m     {\u001b[38;5;124m\"\u001b[39m\u001b[38;5;124mrecursion_limit\u001b[39m\u001b[38;5;124m\"\u001b[39m: \u001b[38;5;241m150\u001b[39m},\n\u001b[1;32m     10\u001b[0m ):\n\u001b[1;32m     11\u001b[0m     \u001b[38;5;28;01mif\u001b[39;00m \u001b[38;5;124m\"\u001b[39m\u001b[38;5;124m__end__\u001b[39m\u001b[38;5;124m\"\u001b[39m \u001b[38;5;129;01mnot\u001b[39;00m \u001b[38;5;129;01min\u001b[39;00m s:\n\u001b[1;32m     12\u001b[0m         \u001b[38;5;28mprint\u001b[39m(s)\n",
      "File \u001b[0;32m/opt/anaconda3/lib/python3.11/site-packages/langgraph/pregel/__init__.py:886\u001b[0m, in \u001b[0;36mPregel.transform\u001b[0;34m(self, input, config, output_keys, input_keys, interrupt_before_nodes, interrupt_after_nodes, debug, **kwargs)\u001b[0m\n\u001b[1;32m    874\u001b[0m \u001b[38;5;28;01mdef\u001b[39;00m \u001b[38;5;21mtransform\u001b[39m(\n\u001b[1;32m    875\u001b[0m     \u001b[38;5;28mself\u001b[39m,\n\u001b[1;32m    876\u001b[0m     \u001b[38;5;28minput\u001b[39m: Iterator[Union[\u001b[38;5;28mdict\u001b[39m[\u001b[38;5;28mstr\u001b[39m, Any], Any]],\n\u001b[0;32m   (...)\u001b[0m\n\u001b[1;32m    884\u001b[0m     \u001b[38;5;241m*\u001b[39m\u001b[38;5;241m*\u001b[39mkwargs: Any,\n\u001b[1;32m    885\u001b[0m ) \u001b[38;5;241m-\u001b[39m\u001b[38;5;241m>\u001b[39m Iterator[Union[\u001b[38;5;28mdict\u001b[39m[\u001b[38;5;28mstr\u001b[39m, Any], Any]]:\n\u001b[0;32m--> 886\u001b[0m     \u001b[38;5;28;01mfor\u001b[39;00m chunk \u001b[38;5;129;01min\u001b[39;00m \u001b[38;5;28mself\u001b[39m\u001b[38;5;241m.\u001b[39m_transform_stream_with_config(\n\u001b[1;32m    887\u001b[0m         \u001b[38;5;28minput\u001b[39m,\n\u001b[1;32m    888\u001b[0m         \u001b[38;5;28mself\u001b[39m\u001b[38;5;241m.\u001b[39m_transform,\n\u001b[1;32m    889\u001b[0m         config,\n\u001b[1;32m    890\u001b[0m         output_keys\u001b[38;5;241m=\u001b[39moutput_keys,\n\u001b[1;32m    891\u001b[0m         input_keys\u001b[38;5;241m=\u001b[39minput_keys,\n\u001b[1;32m    892\u001b[0m         interrupt_before_nodes\u001b[38;5;241m=\u001b[39minterrupt_before_nodes,\n\u001b[1;32m    893\u001b[0m         interrupt_after_nodes\u001b[38;5;241m=\u001b[39minterrupt_after_nodes,\n\u001b[1;32m    894\u001b[0m         debug\u001b[38;5;241m=\u001b[39mdebug,\n\u001b[1;32m    895\u001b[0m         \u001b[38;5;241m*\u001b[39m\u001b[38;5;241m*\u001b[39mkwargs,\n\u001b[1;32m    896\u001b[0m     ):\n\u001b[1;32m    897\u001b[0m         \u001b[38;5;28;01myield\u001b[39;00m chunk\n",
      "File \u001b[0;32m/opt/anaconda3/lib/python3.11/site-packages/langchain_core/runnables/base.py:1743\u001b[0m, in \u001b[0;36mRunnable._transform_stream_with_config\u001b[0;34m(self, input, transformer, config, run_type, **kwargs)\u001b[0m\n\u001b[1;32m   1741\u001b[0m \u001b[38;5;28;01mtry\u001b[39;00m:\n\u001b[1;32m   1742\u001b[0m     \u001b[38;5;28;01mwhile\u001b[39;00m \u001b[38;5;28;01mTrue\u001b[39;00m:\n\u001b[0;32m-> 1743\u001b[0m         chunk: Output \u001b[38;5;241m=\u001b[39m context\u001b[38;5;241m.\u001b[39mrun(\u001b[38;5;28mnext\u001b[39m, iterator)  \u001b[38;5;66;03m# type: ignore\u001b[39;00m\n\u001b[1;32m   1744\u001b[0m         \u001b[38;5;28;01myield\u001b[39;00m chunk\n\u001b[1;32m   1745\u001b[0m         \u001b[38;5;28;01mif\u001b[39;00m final_output_supported:\n",
      "File \u001b[0;32m/opt/anaconda3/lib/python3.11/site-packages/langgraph/pregel/__init__.py:565\u001b[0m, in \u001b[0;36mPregel._transform\u001b[0;34m(self, input, run_manager, config, **kwargs)\u001b[0m\n\u001b[1;32m    558\u001b[0m futures \u001b[38;5;241m=\u001b[39m [\n\u001b[1;32m    559\u001b[0m     executor\u001b[38;5;241m.\u001b[39msubmit(proc\u001b[38;5;241m.\u001b[39minvoke, \u001b[38;5;28minput\u001b[39m, config)\n\u001b[1;32m    560\u001b[0m     \u001b[38;5;28;01mfor\u001b[39;00m proc, \u001b[38;5;28minput\u001b[39m, config \u001b[38;5;129;01min\u001b[39;00m tasks_w_config\n\u001b[1;32m    561\u001b[0m ]\n\u001b[1;32m    563\u001b[0m \u001b[38;5;66;03m# execute tasks, and wait for one to fail or all to finish.\u001b[39;00m\n\u001b[1;32m    564\u001b[0m \u001b[38;5;66;03m# each task is independent from all other concurrent tasks\u001b[39;00m\n\u001b[0;32m--> 565\u001b[0m done, inflight \u001b[38;5;241m=\u001b[39m concurrent\u001b[38;5;241m.\u001b[39mfutures\u001b[38;5;241m.\u001b[39mwait(\n\u001b[1;32m    566\u001b[0m     futures,\n\u001b[1;32m    567\u001b[0m     return_when\u001b[38;5;241m=\u001b[39mconcurrent\u001b[38;5;241m.\u001b[39mfutures\u001b[38;5;241m.\u001b[39mFIRST_EXCEPTION,\n\u001b[1;32m    568\u001b[0m     timeout\u001b[38;5;241m=\u001b[39m\u001b[38;5;28mself\u001b[39m\u001b[38;5;241m.\u001b[39mstep_timeout,\n\u001b[1;32m    569\u001b[0m )\n\u001b[1;32m    571\u001b[0m \u001b[38;5;66;03m# panic on failure or timeout\u001b[39;00m\n\u001b[1;32m    572\u001b[0m _panic_or_proceed(done, inflight, step)\n",
      "File \u001b[0;32m/opt/anaconda3/lib/python3.11/concurrent/futures/_base.py:305\u001b[0m, in \u001b[0;36mwait\u001b[0;34m(fs, timeout, return_when)\u001b[0m\n\u001b[1;32m    301\u001b[0m         \u001b[38;5;28;01mreturn\u001b[39;00m DoneAndNotDoneFutures(done, not_done)\n\u001b[1;32m    303\u001b[0m     waiter \u001b[38;5;241m=\u001b[39m _create_and_install_waiters(fs, return_when)\n\u001b[0;32m--> 305\u001b[0m waiter\u001b[38;5;241m.\u001b[39mevent\u001b[38;5;241m.\u001b[39mwait(timeout)\n\u001b[1;32m    306\u001b[0m \u001b[38;5;28;01mfor\u001b[39;00m f \u001b[38;5;129;01min\u001b[39;00m fs:\n\u001b[1;32m    307\u001b[0m     \u001b[38;5;28;01mwith\u001b[39;00m f\u001b[38;5;241m.\u001b[39m_condition:\n",
      "File \u001b[0;32m/opt/anaconda3/lib/python3.11/threading.py:629\u001b[0m, in \u001b[0;36mEvent.wait\u001b[0;34m(self, timeout)\u001b[0m\n\u001b[1;32m    627\u001b[0m signaled \u001b[38;5;241m=\u001b[39m \u001b[38;5;28mself\u001b[39m\u001b[38;5;241m.\u001b[39m_flag\n\u001b[1;32m    628\u001b[0m \u001b[38;5;28;01mif\u001b[39;00m \u001b[38;5;129;01mnot\u001b[39;00m signaled:\n\u001b[0;32m--> 629\u001b[0m     signaled \u001b[38;5;241m=\u001b[39m \u001b[38;5;28mself\u001b[39m\u001b[38;5;241m.\u001b[39m_cond\u001b[38;5;241m.\u001b[39mwait(timeout)\n\u001b[1;32m    630\u001b[0m \u001b[38;5;28;01mreturn\u001b[39;00m signaled\n",
      "File \u001b[0;32m/opt/anaconda3/lib/python3.11/threading.py:327\u001b[0m, in \u001b[0;36mCondition.wait\u001b[0;34m(self, timeout)\u001b[0m\n\u001b[1;32m    325\u001b[0m \u001b[38;5;28;01mtry\u001b[39;00m:    \u001b[38;5;66;03m# restore state no matter what (e.g., KeyboardInterrupt)\u001b[39;00m\n\u001b[1;32m    326\u001b[0m     \u001b[38;5;28;01mif\u001b[39;00m timeout \u001b[38;5;129;01mis\u001b[39;00m \u001b[38;5;28;01mNone\u001b[39;00m:\n\u001b[0;32m--> 327\u001b[0m         waiter\u001b[38;5;241m.\u001b[39macquire()\n\u001b[1;32m    328\u001b[0m         gotit \u001b[38;5;241m=\u001b[39m \u001b[38;5;28;01mTrue\u001b[39;00m\n\u001b[1;32m    329\u001b[0m     \u001b[38;5;28;01melse\u001b[39;00m:\n",
      "\u001b[0;31mKeyboardInterrupt\u001b[0m: "
     ]
    }
   ],
   "source": [
    "for s in super_graph.stream(\n",
    "    {\n",
    "        \"messages\": [\n",
    "            HumanMessage(\n",
    "                content=\"A customer just informed us that he cannot login our mobile application and he sees an error message that says \\\"Authorization failed: Incorrect password\\\". Can you help him by listing out potential solutions?\"\n",
    "            )\n",
    "        ],\n",
    "    },\n",
    "    {\"recursion_limit\": 150},\n",
    "):\n",
    "    if \"__end__\" not in s:\n",
    "        print(s)\n",
    "        print(\"---\")"
   ]
  },
  {
   "cell_type": "code",
   "execution_count": 15,
   "id": "1bf3ec94-38e3-4b9e-8e05-7c8e8cd47eb5",
   "metadata": {
    "scrolled": true
   },
   "outputs": [
    {
     "name": "stdout",
     "output_type": "stream",
     "text": [
      "{'supervisor': {'next': 'Research_Team'}}\n",
      "---\n",
      "{'Research_Team': {'messages': [HumanMessage(content=\"Improving the recruitment process to attract and retain top talent, while ensuring diversity and inclusion, can involve several strategic actions and policy implementations. Here are steps to consider that can help achieve these goals:\\n\\n1. **Revise Job Descriptions:**\\n   - Use inclusive language that is gender-neutral and free from bias.\\n   - Highlight your company’s commitment to diversity and inclusion.\\n   - Clearly define the role, responsibilities, and career growth opportunities.\\n\\n2. **Widen Recruitment Channels:**\\n   - Partner with diverse professional organizations and universities.\\n   - Utilize social media and job platforms that cater to a diverse audience.\\n   - Encourage employee referrals while emphasizing the company’s diversity goals.\\n\\n3. **Implement Blind Hiring Practices:**\\n   - Remove names and other demographic information from resumes.\\n   - Use skills-based assessments to evaluate candidates objectively.\\n\\n4. **Structured Interviews:**\\n   - Develop a consistent set of interview questions for all candidates.\\n   - Train interviewers on unconscious bias and inclusive interviewing techniques.\\n   - Consider using diverse interview panels to ensure varied perspectives.\\n\\n5. **Invest in Diversity Training:**\\n   - Provide regular training for all employees on diversity, equity, and inclusion.\\n   - Educate hiring managers and teams on the importance of a diverse workforce.\\n\\n6. **Data-Driven Decision-Making:**\\n   - Collect and analyze recruitment data to identify biases or trends.\\n   - Use metrics to set diversity goals and track progress.\\n\\n7. **Employee Resource Groups (ERGs):**\\n   - Support and promote ERGs that cater to different demographics.\\n   - Use insights from ERGs to improve hiring practices and workplace policies.\\n\\n8. **Flexible Work Policies:**\\n   - Offer flexible working hours and remote work options to appeal to a broader range of candidates.\\n   - Ensure these policies are inclusive for all employees.\\n\\n9. **Inclusive Onboarding and Mentorship:**\\n   - Create an onboarding process that welcomes and integrates diverse hires.\\n   - Establish mentorship programs to support career development for underrepresented groups.\\n\\n10. **Promote from Within:**\\n    - Encourage and support the career advancement of current employees.\\n    - Make the promotion process transparent and based on merit.\\n\\n11. **Ensure Pay Equity:**\\n    - Conduct regular pay audits to ensure fair compensation across all demographics.\\n    - Address any disparities and be transparent about compensation practices.\\n\\n12. **Feedback Loop:**\\n    - Implement a system for candidates and employees to provide feedback on the recruitment process and workplace inclusivity.\\n    - Use this feedback to make continuous improvements.\\n\\n13. **Accountability:**\\n    - Set clear diversity and inclusion objectives for the recruitment team.\\n    - Hold leaders and hiring managers accountable for meeting these goals.\\n\\n14. **External Partnerships and Branding:**\\n    - Collaborate with organizations that specialize in diversity recruitment.\\n    - Promote your organization's diversity and inclusion values in your employer branding.\\n\\nTo implement these steps effectively, it's crucial to have buy-in from top management and to integrate diversity and inclusion into the company culture. Additionally, consistently reviewing and updating recruitment strategies to align with best practices will ensure that the organization remains competitive in attracting and retaining top talent from diverse backgrounds.\", name='Economist')]}}\n",
      "---\n",
      "{'supervisor': {'next': 'Human_Resources_Team'}}\n",
      "---\n",
      "{'Human_Resources_Team': {'messages': [HumanMessage(content=\"As a Recruitment Specialist, your role in orchestrating these improvements is pivotal. Here's how you can operationalize each step:\\n\\n1. **Revise Job Descriptions:**\\n   - Collaborate with hiring managers to revise job descriptions. Consider employing text analysis tools to detect and mitigate biased language.\\n\\n2. **Widen Recruitment Channels:**\\n   - Identify and engage with organizations and platforms that reach diverse talent pools. Develop a plan to diversify your recruitment channels.\\n\\n3. **Implement Blind Hiring Practices:**\\n   - Introduce anonymizing software to redact personal information from applications. Ensure that skills assessments are relevant and unbiased.\\n\\n4. **Structured Interviews:**\\n   - Standardize interview questions and processes. Provide training for interviewers on diversity and unconscious bias.\\n\\n5. **Invest in Diversity Training:**\\n   - Facilitate diversity training sessions for the recruitment team and broader organization. Secure a commitment from leadership for ongoing training initiatives.\\n\\n6. **Data-Driven Decision-Making:**\\n   - Implement a system to track recruitment metrics. Analyze data to inform decisions and improve diversity outcomes.\\n\\n7. **Employee Resource Groups (ERGs):**\\n   - Support the creation and growth of ERGs. Use insights from ERGs to inform recruitment practices.\\n\\n8. **Flexible Work Policies:**\\n   - Advocate for and help design flexible work policies. Communicate these policies to prospective candidates.\\n\\n9. **Inclusive Onboarding and Mentorship:**\\n   - Work with HR to craft an inclusive onboarding experience. Help establish mentorship programs that support diversity.\\n\\n10. **Promote from Within:**\\n    - Encourage transparent internal mobility and career development opportunities. Monitor the promotion process for fairness and equity.\\n\\n11. **Ensure Pay Equity:**\\n    - Collaborate with compensation specialists to analyze pay equity. Address disparities and maintain transparency in compensation practices.\\n\\n12. **Feedback Loop:**\\n    - Set up mechanisms for gathering feedback. Regularly review feedback to identify improvement opportunities.\\n\\n13. **Accountability:**\\n    - Define clear diversity and inclusion goals for the recruitment team. Track progress and hold the team accountable for results.\\n\\n14. **External Partnerships and Branding:**\\n    - Forge partnerships with diversity-focused organizations and institutions. Showcase your organization's commitment to diversity in your employer branding.\\n\\nTo ensure these initiatives are successful, document your strategies, maintain open communication with stakeholders, and stay informed about best practices in diversity recruitment. Regularly review and adjust your approach based on outcomes and feedback, demonstrating a commitment to continuous improvement.\", name='Payroll_and_Personnel')]}}\n",
      "---\n",
      "{'supervisor': {'next': 'Human_Resources_Team'}}\n",
      "---\n",
      "{'Human_Resources_Team': {'messages': [HumanMessage(content=\"To operationalize these steps as a Recruitment Specialist, here is a plan of action for each:\\n\\n1. **Revise Job Descriptions:**\\n   - Schedule meetings with hiring managers to discuss specific roles.\\n   - Use text analysis software to check job descriptions for biased language.\\n   - Rewrite job descriptions to be inclusive and focus on essential qualifications.\\n\\n2. **Widen Recruitment Channels:**\\n   - Research and compile a list of diverse job boards and professional groups.\\n   - Create partnerships with organizations that can help reach diverse candidates.\\n   - Track the performance of different recruitment channels to identify the most effective ones.\\n\\n3. **Implement Blind Hiring Practices:**\\n   - Select and implement software that can anonymize applications.\\n   - Train the recruitment team on how to use this software effectively.\\n   - Develop skills assessments that focus solely on the abilities required for the job.\\n\\n4. **Structured Interviews:**\\n   - Develop a set of standardized interview questions relevant to the job.\\n   - Conduct training sessions on unconscious bias for all interviewers.\\n   - Monitor interviews for consistency and provide feedback to interviewers.\\n\\n5. **Invest in Diversity Training:**\\n   - Identify reputable diversity trainers or online training modules.\\n   - Schedule and promote training sessions within the organization.\\n   - Work with leadership to ensure the importance of this training is communicated.\\n\\n6. **Data-Driven Decision-Making:**\\n   - Implement recruitment tracking software that can gather relevant metrics.\\n   - Regularly review recruitment data to assess diversity efforts.\\n   - Adjust recruitment strategies based on data analysis to improve outcomes.\\n\\n7. **Employee Resource Groups (ERGs):**\\n   - Support employees in establishing ERGs.\\n   - Attend ERG meetings to understand their perspectives.\\n   - Incorporate suggestions from ERGs into recruitment strategies.\\n\\n8. **Flexible Work Policies:**\\n   - Work with HR to define flexible work options.\\n   - Ensure that job postings highlight flexible work policies.\\n   - Communicate the benefits of these policies during the recruitment process.\\n\\n9. **Inclusive Onboarding and Mentorship:**\\n   - Collaborate with HR to develop an inclusive onboarding program.\\n   - Help set up mentorship programs that support diverse employees.\\n   - Evaluate the effectiveness of these programs and make improvements as needed.\\n\\n10. **Promote from Within:**\\n    - Encourage an internal job posting system to facilitate transparency.\\n    - Monitor internal promotions for equitable practices.\\n    - Offer career development workshops to prepare employees for advancement.\\n\\n11. **Ensure Pay Equity:**\\n    - Work with compensation analysts to conduct regular pay audits.\\n    - Address any identified pay disparities.\\n    - Make compensation structures transparent to all employees.\\n\\n12. **Feedback Loop:**\\n    - Create surveys and feedback channels for candidates and employees.\\n    - Regularly review feedback to identify areas for improvement.\\n    - Implement changes based on feedback to enhance the recruitment process.\\n\\n13. **Accountability:**\\n    - Set specific diversity goals and share them with the recruitment team.\\n    - Track progress against these goals and report findings to leadership.\\n    - Hold regular meetings to ensure the team remains focused on diversity objectives.\\n\\n14. **External Partnerships and Branding:**\\n    - Develop relationships with diversity-focused organizations.\\n    - Showcase your company's diversity efforts on social media and company websites.\\n    - Ensure that your employer branding reflects a commitment to diversity.\\n\\nFor this recruitment strategy to be effective, it's important to keep thorough records, communicate regularly with all stakeholders involved, and stay current with the latest trends and best practices in diversity recruitment. Regular assessments and adjustments to the strategy will be necessary to ensure continuous improvement and success.\", name='Recruitment_Specialist')]}}\n",
      "---\n",
      "{'supervisor': {'next': 'Human_Resources_Team'}}\n",
      "---\n",
      "{'Human_Resources_Team': {'messages': [HumanMessage(content=\"Implementing the outlined diversity recruitment plan involves a combination of strategic planning, tool integration, and continuous improvement efforts. Here's how you can put this plan into action as a Recruitment Specialist:\\n\\n1. **Revise Job Descriptions:**\\n   - Work with hiring managers to update job descriptions, ensuring they are inclusive and accurately reflect the requirements of the job.\\n   - Utilize AI-driven language analysis tools to identify and remove biased language from job descriptions.\\n\\n2. **Widen Recruitment Channels:**\\n   - Identify and engage with a broader range of job boards, including those that are focused on underrepresented groups.\\n   - Employ analytics tools to monitor the performance of different recruitment channels, optimizing for those that yield diverse candidates.\\n\\n3. **Implement Blind Hiring Practices:**\\n   - Integrate software that anonymizes applicant information to reduce unconscious bias.\\n   - Educate the recruitment team on the importance of objective evaluation and provide training on using the new software.\\n\\n4. **Structured Interviews:**\\n   - Develop standardized interview questions that are job-specific and objectively measurable.\\n   - Implement interview training for staff to mitigate unconscious bias, and use digital platforms for consistent interview delivery.\\n\\n5. **Invest in Diversity Training:**\\n   - Source quality diversity training programs and ensure all recruiting staff participate.\\n   - Track training completion and evaluate its impact on the recruitment process.\\n\\n6. **Data-Driven Decision-Making:**\\n   - Use recruitment software with robust reporting capabilities to track and analyze diversity metrics.\\n   - Regularly review data to inform and adjust recruitment strategies.\\n\\n7. **Employee Resource Groups (ERGs):**\\n   - Facilitate the establishment and support of ERGs, providing platforms for communication and feedback.\\n   - Integrate insights from ERGs into recruitment practices.\\n\\n8. **Flexible Work Policies:**\\n   - Collaborate with HR to define and promote flexible work options in job postings.\\n   - Evaluate the effectiveness of these policies through employee feedback.\\n\\n9. **Inclusive Onboarding and Mentorship:**\\n   - Work with HR to create an inclusive onboarding process.\\n   - Help establish mentorship programs and track their efficacy in supporting diverse hires.\\n\\n10. **Promote from Within:**\\n    - Utilize internal job boards to advertise advancement opportunities.\\n    - Monitor and analyze promotion practices to ensure they are equitable.\\n\\n11. **Ensure Pay Equity:**\\n    - Coordinate with compensation analysts to conduct pay equity analyses.\\n    - Address any pay disparities and strive for transparency in compensation.\\n\\n12. **Feedback Loop:**\\n    - Implement feedback collection tools to gather insights from candidates and employees.\\n    - Use this feedback to continuously refine recruitment practices.\\n\\n13. **Accountability:**\\n    - Set clear diversity hiring goals and track progress using data analytics.\\n    - Regularly review these goals with the recruitment team and leadership to ensure accountability.\\n\\n14. **External Partnerships and Branding:**\\n    - Build partnerships with organizations committed to diversity.\\n    - Use branding analytics to assess the effectiveness of diversity messaging.\\n\\nBy integrating these actions into your recruitment strategy, you can create a more diverse and inclusive workforce. Remember to document processes, maintain open lines of communication, and stay informed on the latest in diversity recruitment to continually enhance your approach.\", name='Recruitment_Specialist')]}}\n",
      "---\n",
      "{'supervisor': {'next': 'Human_Resources_Team'}}\n",
      "---\n"
     ]
    },
    {
     "ename": "KeyboardInterrupt",
     "evalue": "",
     "output_type": "error",
     "traceback": [
      "\u001b[0;31m---------------------------------------------------------------------------\u001b[0m",
      "\u001b[0;31mKeyboardInterrupt\u001b[0m                         Traceback (most recent call last)",
      "Cell \u001b[0;32mIn[15], line 1\u001b[0m\n\u001b[0;32m----> 1\u001b[0m \u001b[38;5;28;01mfor\u001b[39;00m s \u001b[38;5;129;01min\u001b[39;00m super_graph\u001b[38;5;241m.\u001b[39mstream(\n\u001b[1;32m      2\u001b[0m     {\n\u001b[1;32m      3\u001b[0m         \u001b[38;5;124m\"\u001b[39m\u001b[38;5;124mmessages\u001b[39m\u001b[38;5;124m\"\u001b[39m: [\n\u001b[1;32m      4\u001b[0m             HumanMessage(\n\u001b[1;32m      5\u001b[0m                 content\u001b[38;5;241m=\u001b[39m\u001b[38;5;124m\"\u001b[39m\u001b[38;5;124mHow can we improve our recruitment process to attract and retain top talent, while ensuring diversity and inclusion are prioritized throughout the hiring process?\u001b[39m\u001b[38;5;124m\"\u001b[39m\n\u001b[1;32m      6\u001b[0m             )\n\u001b[1;32m      7\u001b[0m         ],\n\u001b[1;32m      8\u001b[0m     },\n\u001b[1;32m      9\u001b[0m     {\u001b[38;5;124m\"\u001b[39m\u001b[38;5;124mrecursion_limit\u001b[39m\u001b[38;5;124m\"\u001b[39m: \u001b[38;5;241m150\u001b[39m},\n\u001b[1;32m     10\u001b[0m ):\n\u001b[1;32m     11\u001b[0m     \u001b[38;5;28;01mif\u001b[39;00m \u001b[38;5;124m\"\u001b[39m\u001b[38;5;124m__end__\u001b[39m\u001b[38;5;124m\"\u001b[39m \u001b[38;5;129;01mnot\u001b[39;00m \u001b[38;5;129;01min\u001b[39;00m s:\n\u001b[1;32m     12\u001b[0m         \u001b[38;5;28mprint\u001b[39m(s)\n",
      "File \u001b[0;32m/opt/anaconda3/lib/python3.11/site-packages/langgraph/pregel/__init__.py:886\u001b[0m, in \u001b[0;36mPregel.transform\u001b[0;34m(self, input, config, output_keys, input_keys, interrupt_before_nodes, interrupt_after_nodes, debug, **kwargs)\u001b[0m\n\u001b[1;32m    874\u001b[0m \u001b[38;5;28;01mdef\u001b[39;00m \u001b[38;5;21mtransform\u001b[39m(\n\u001b[1;32m    875\u001b[0m     \u001b[38;5;28mself\u001b[39m,\n\u001b[1;32m    876\u001b[0m     \u001b[38;5;28minput\u001b[39m: Iterator[Union[\u001b[38;5;28mdict\u001b[39m[\u001b[38;5;28mstr\u001b[39m, Any], Any]],\n\u001b[0;32m   (...)\u001b[0m\n\u001b[1;32m    884\u001b[0m     \u001b[38;5;241m*\u001b[39m\u001b[38;5;241m*\u001b[39mkwargs: Any,\n\u001b[1;32m    885\u001b[0m ) \u001b[38;5;241m-\u001b[39m\u001b[38;5;241m>\u001b[39m Iterator[Union[\u001b[38;5;28mdict\u001b[39m[\u001b[38;5;28mstr\u001b[39m, Any], Any]]:\n\u001b[0;32m--> 886\u001b[0m     \u001b[38;5;28;01mfor\u001b[39;00m chunk \u001b[38;5;129;01min\u001b[39;00m \u001b[38;5;28mself\u001b[39m\u001b[38;5;241m.\u001b[39m_transform_stream_with_config(\n\u001b[1;32m    887\u001b[0m         \u001b[38;5;28minput\u001b[39m,\n\u001b[1;32m    888\u001b[0m         \u001b[38;5;28mself\u001b[39m\u001b[38;5;241m.\u001b[39m_transform,\n\u001b[1;32m    889\u001b[0m         config,\n\u001b[1;32m    890\u001b[0m         output_keys\u001b[38;5;241m=\u001b[39moutput_keys,\n\u001b[1;32m    891\u001b[0m         input_keys\u001b[38;5;241m=\u001b[39minput_keys,\n\u001b[1;32m    892\u001b[0m         interrupt_before_nodes\u001b[38;5;241m=\u001b[39minterrupt_before_nodes,\n\u001b[1;32m    893\u001b[0m         interrupt_after_nodes\u001b[38;5;241m=\u001b[39minterrupt_after_nodes,\n\u001b[1;32m    894\u001b[0m         debug\u001b[38;5;241m=\u001b[39mdebug,\n\u001b[1;32m    895\u001b[0m         \u001b[38;5;241m*\u001b[39m\u001b[38;5;241m*\u001b[39mkwargs,\n\u001b[1;32m    896\u001b[0m     ):\n\u001b[1;32m    897\u001b[0m         \u001b[38;5;28;01myield\u001b[39;00m chunk\n",
      "File \u001b[0;32m/opt/anaconda3/lib/python3.11/site-packages/langchain_core/runnables/base.py:1743\u001b[0m, in \u001b[0;36mRunnable._transform_stream_with_config\u001b[0;34m(self, input, transformer, config, run_type, **kwargs)\u001b[0m\n\u001b[1;32m   1741\u001b[0m \u001b[38;5;28;01mtry\u001b[39;00m:\n\u001b[1;32m   1742\u001b[0m     \u001b[38;5;28;01mwhile\u001b[39;00m \u001b[38;5;28;01mTrue\u001b[39;00m:\n\u001b[0;32m-> 1743\u001b[0m         chunk: Output \u001b[38;5;241m=\u001b[39m context\u001b[38;5;241m.\u001b[39mrun(\u001b[38;5;28mnext\u001b[39m, iterator)  \u001b[38;5;66;03m# type: ignore\u001b[39;00m\n\u001b[1;32m   1744\u001b[0m         \u001b[38;5;28;01myield\u001b[39;00m chunk\n\u001b[1;32m   1745\u001b[0m         \u001b[38;5;28;01mif\u001b[39;00m final_output_supported:\n",
      "File \u001b[0;32m/opt/anaconda3/lib/python3.11/site-packages/langgraph/pregel/__init__.py:565\u001b[0m, in \u001b[0;36mPregel._transform\u001b[0;34m(self, input, run_manager, config, **kwargs)\u001b[0m\n\u001b[1;32m    558\u001b[0m futures \u001b[38;5;241m=\u001b[39m [\n\u001b[1;32m    559\u001b[0m     executor\u001b[38;5;241m.\u001b[39msubmit(proc\u001b[38;5;241m.\u001b[39minvoke, \u001b[38;5;28minput\u001b[39m, config)\n\u001b[1;32m    560\u001b[0m     \u001b[38;5;28;01mfor\u001b[39;00m proc, \u001b[38;5;28minput\u001b[39m, config \u001b[38;5;129;01min\u001b[39;00m tasks_w_config\n\u001b[1;32m    561\u001b[0m ]\n\u001b[1;32m    563\u001b[0m \u001b[38;5;66;03m# execute tasks, and wait for one to fail or all to finish.\u001b[39;00m\n\u001b[1;32m    564\u001b[0m \u001b[38;5;66;03m# each task is independent from all other concurrent tasks\u001b[39;00m\n\u001b[0;32m--> 565\u001b[0m done, inflight \u001b[38;5;241m=\u001b[39m concurrent\u001b[38;5;241m.\u001b[39mfutures\u001b[38;5;241m.\u001b[39mwait(\n\u001b[1;32m    566\u001b[0m     futures,\n\u001b[1;32m    567\u001b[0m     return_when\u001b[38;5;241m=\u001b[39mconcurrent\u001b[38;5;241m.\u001b[39mfutures\u001b[38;5;241m.\u001b[39mFIRST_EXCEPTION,\n\u001b[1;32m    568\u001b[0m     timeout\u001b[38;5;241m=\u001b[39m\u001b[38;5;28mself\u001b[39m\u001b[38;5;241m.\u001b[39mstep_timeout,\n\u001b[1;32m    569\u001b[0m )\n\u001b[1;32m    571\u001b[0m \u001b[38;5;66;03m# panic on failure or timeout\u001b[39;00m\n\u001b[1;32m    572\u001b[0m _panic_or_proceed(done, inflight, step)\n",
      "File \u001b[0;32m/opt/anaconda3/lib/python3.11/concurrent/futures/_base.py:305\u001b[0m, in \u001b[0;36mwait\u001b[0;34m(fs, timeout, return_when)\u001b[0m\n\u001b[1;32m    301\u001b[0m         \u001b[38;5;28;01mreturn\u001b[39;00m DoneAndNotDoneFutures(done, not_done)\n\u001b[1;32m    303\u001b[0m     waiter \u001b[38;5;241m=\u001b[39m _create_and_install_waiters(fs, return_when)\n\u001b[0;32m--> 305\u001b[0m waiter\u001b[38;5;241m.\u001b[39mevent\u001b[38;5;241m.\u001b[39mwait(timeout)\n\u001b[1;32m    306\u001b[0m \u001b[38;5;28;01mfor\u001b[39;00m f \u001b[38;5;129;01min\u001b[39;00m fs:\n\u001b[1;32m    307\u001b[0m     \u001b[38;5;28;01mwith\u001b[39;00m f\u001b[38;5;241m.\u001b[39m_condition:\n",
      "File \u001b[0;32m/opt/anaconda3/lib/python3.11/threading.py:629\u001b[0m, in \u001b[0;36mEvent.wait\u001b[0;34m(self, timeout)\u001b[0m\n\u001b[1;32m    627\u001b[0m signaled \u001b[38;5;241m=\u001b[39m \u001b[38;5;28mself\u001b[39m\u001b[38;5;241m.\u001b[39m_flag\n\u001b[1;32m    628\u001b[0m \u001b[38;5;28;01mif\u001b[39;00m \u001b[38;5;129;01mnot\u001b[39;00m signaled:\n\u001b[0;32m--> 629\u001b[0m     signaled \u001b[38;5;241m=\u001b[39m \u001b[38;5;28mself\u001b[39m\u001b[38;5;241m.\u001b[39m_cond\u001b[38;5;241m.\u001b[39mwait(timeout)\n\u001b[1;32m    630\u001b[0m \u001b[38;5;28;01mreturn\u001b[39;00m signaled\n",
      "File \u001b[0;32m/opt/anaconda3/lib/python3.11/threading.py:327\u001b[0m, in \u001b[0;36mCondition.wait\u001b[0;34m(self, timeout)\u001b[0m\n\u001b[1;32m    325\u001b[0m \u001b[38;5;28;01mtry\u001b[39;00m:    \u001b[38;5;66;03m# restore state no matter what (e.g., KeyboardInterrupt)\u001b[39;00m\n\u001b[1;32m    326\u001b[0m     \u001b[38;5;28;01mif\u001b[39;00m timeout \u001b[38;5;129;01mis\u001b[39;00m \u001b[38;5;28;01mNone\u001b[39;00m:\n\u001b[0;32m--> 327\u001b[0m         waiter\u001b[38;5;241m.\u001b[39macquire()\n\u001b[1;32m    328\u001b[0m         gotit \u001b[38;5;241m=\u001b[39m \u001b[38;5;28;01mTrue\u001b[39;00m\n\u001b[1;32m    329\u001b[0m     \u001b[38;5;28;01melse\u001b[39;00m:\n",
      "\u001b[0;31mKeyboardInterrupt\u001b[0m: "
     ]
    }
   ],
   "source": [
    "for s in super_graph.stream(\n",
    "    {\n",
    "        \"messages\": [\n",
    "            HumanMessage(\n",
    "                content=\"How can we improve our recruitment process to attract and retain top talent, while ensuring diversity and inclusion are prioritized throughout the hiring process?\"\n",
    "            )\n",
    "        ],\n",
    "    },\n",
    "    {\"recursion_limit\": 150},\n",
    "):\n",
    "    if \"__end__\" not in s:\n",
    "        print(s)\n",
    "        print(\"---\")"
   ]
  },
  {
   "cell_type": "code",
   "execution_count": null,
   "id": "77a676fc-76c8-471e-beb3-03dc70f69bf6",
   "metadata": {},
   "outputs": [],
   "source": []
  }
 ],
 "metadata": {
  "kernelspec": {
   "display_name": "Python 3 (ipykernel)",
   "language": "python",
   "name": "python3"
  },
  "language_info": {
   "codemirror_mode": {
    "name": "ipython",
    "version": 3
   },
   "file_extension": ".py",
   "mimetype": "text/x-python",
   "name": "python",
   "nbconvert_exporter": "python",
   "pygments_lexer": "ipython3",
   "version": "3.11.7"
  }
 },
 "nbformat": 4,
 "nbformat_minor": 5
}
